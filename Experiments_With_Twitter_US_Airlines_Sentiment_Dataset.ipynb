{
  "nbformat": 4,
  "nbformat_minor": 0,
  "metadata": {
    "colab": {
      "name": "Experiments_With_Twitter_US_Airlines_Sentiment_Dataset.ipynb",
      "provenance": [],
      "toc_visible": true
    },
    "kernelspec": {
      "name": "python3",
      "display_name": "Python 3"
    },
    "accelerator": "GPU"
  },
  "cells": [
    {
      "cell_type": "markdown",
      "metadata": {
        "id": "AM42lgEMnD7r",
        "colab_type": "text"
      },
      "source": [
        "# Challenge: \n",
        "***ULMFiT Sentiment: Apply a supervised or semi-supervised ULMFiT model to Twitter US Airlines Sentiment***\n",
        "\n",
        "# Approach:\n",
        "\n",
        "*The approach will be a two way approach, at first we will try out various supervised learning algorithms and then tey to compare their performances with semi-supervised ULMFit Model.*\n",
        "\n"
      ]
    },
    {
      "cell_type": "markdown",
      "metadata": {
        "id": "rJwAAt4gQTYX",
        "colab_type": "text"
      },
      "source": [
        "**Contents**\n",
        "\n",
        "> The structure of the notebook is as follows:\n",
        "\n",
        "\n",
        "*   Load Data\n",
        "*   Exploratory Data Analysis\n",
        "*   **Supervised Learning**\n",
        "1.  Data Cleaning & Wrangling\n",
        "2.  Feature Engineering\n",
        "3.  Model Fit and Predictions\n",
        "4.  Result Summary\n",
        "*   **Semi - Supervised Learning : ULMFit**\n",
        "1. Preparing the data for the Language Model\n",
        "2. Language Model\n",
        "3. Training & Testing the Classifier\n",
        "4. Result Summary\n",
        "\n",
        "\n",
        "\n",
        "\n",
        "\n"
      ]
    },
    {
      "cell_type": "markdown",
      "metadata": {
        "id": "lgadSm_rJYyN",
        "colab_type": "text"
      },
      "source": [
        "# Load Data"
      ]
    },
    {
      "cell_type": "code",
      "metadata": {
        "id": "0v3HWSp-UEwg",
        "colab_type": "code",
        "colab": {}
      },
      "source": [
        "#loading the libraries\n",
        "import pandas as pd\n",
        "import numpy as np\n",
        "import pandas as pd\n",
        "pd.options.mode.chained_assignment = None\n",
        "\n",
        "# For visualizations\n",
        "import matplotlib.pyplot as plt\n",
        "# For regular expressions\n",
        "import re\n",
        "# For handling string\n",
        "import string\n",
        "# For performing mathematical operations\n",
        "import math"
      ],
      "execution_count": null,
      "outputs": []
    },
    {
      "cell_type": "code",
      "metadata": {
        "id": "L_VVLi7ilyRl",
        "colab_type": "code",
        "colab": {}
      },
      "source": [
        "df = pd.read_csv('Tweets.csv')\n",
        "df.head(3)"
      ],
      "execution_count": null,
      "outputs": []
    },
    {
      "cell_type": "code",
      "metadata": {
        "id": "AI1gnLHglx56",
        "colab_type": "code",
        "colab": {}
      },
      "source": [
        "df.isnull().sum()"
      ],
      "execution_count": null,
      "outputs": []
    },
    {
      "cell_type": "code",
      "metadata": {
        "id": "QTvuLoumvh0d",
        "colab_type": "code",
        "colab": {}
      },
      "source": [
        "print(\"Percentage null or na values in df\")\n",
        "((df.isnull() | df.isna()).sum() * 100 / df.index.size).round(2)"
      ],
      "execution_count": null,
      "outputs": []
    },
    {
      "cell_type": "code",
      "metadata": {
        "id": "mv_xTU1HbcsD",
        "colab_type": "code",
        "colab": {}
      },
      "source": [
        "#Rejecting columns that have NAN values > 90%\n",
        "df_new = df.drop(columns=['airline_sentiment_gold','negativereason_gold','tweet_coord'])\n",
        "df_new.isnull().sum()"
      ],
      "execution_count": null,
      "outputs": []
    },
    {
      "cell_type": "code",
      "metadata": {
        "id": "KY9nvflft0fK",
        "colab_type": "code",
        "colab": {}
      },
      "source": [
        ""
      ],
      "execution_count": null,
      "outputs": []
    },
    {
      "cell_type": "code",
      "metadata": {
        "id": "rolhQ8tDcgHw",
        "colab_type": "code",
        "colab": {}
      },
      "source": [
        "df_new.shape"
      ],
      "execution_count": null,
      "outputs": []
    },
    {
      "cell_type": "code",
      "metadata": {
        "id": "UqL6Q4e_NkW0",
        "colab_type": "code",
        "colab": {}
      },
      "source": [
        ""
      ],
      "execution_count": null,
      "outputs": []
    },
    {
      "cell_type": "code",
      "metadata": {
        "id": "ahmbbq6xGtvz",
        "colab_type": "code",
        "colab": {}
      },
      "source": [
        "#Examining a few Tweets\n",
        "print('Tweet Sentiment :',df_new['airline_sentiment'][1])\n",
        "print('Tweet :',df_new['text'][1])"
      ],
      "execution_count": null,
      "outputs": []
    },
    {
      "cell_type": "code",
      "metadata": {
        "id": "lC4JHbc2euUD",
        "colab_type": "code",
        "colab": {}
      },
      "source": [
        "#Examining a few Tweets\n",
        "print('Tweet Sentiment :',df_new['airline_sentiment'][0])\n",
        "print('Tweet :',df_new['text'][0])"
      ],
      "execution_count": null,
      "outputs": []
    },
    {
      "cell_type": "code",
      "metadata": {
        "id": "QMpVfOfneuer",
        "colab_type": "code",
        "colab": {}
      },
      "source": [
        "#Examining a few Tweets\n",
        "print('Tweet Sentiment :',df_new['airline_sentiment'][5])\n",
        "print('Tweet :',df_new['text'][5])"
      ],
      "execution_count": null,
      "outputs": []
    },
    {
      "cell_type": "markdown",
      "metadata": {
        "id": "9GebOg59e5sm",
        "colab_type": "text"
      },
      "source": [
        "So we have three types of Tweets. The Tweets are not in the proper format so we need to clear them out"
      ]
    },
    {
      "cell_type": "code",
      "metadata": {
        "id": "WSrrKhH3V94F",
        "colab_type": "code",
        "colab": {}
      },
      "source": [
        ""
      ],
      "execution_count": 90,
      "outputs": []
    },
    {
      "cell_type": "markdown",
      "metadata": {
        "id": "lRn1v7-Cc6Ga",
        "colab_type": "text"
      },
      "source": [
        "# Exploratory Data Analysis"
      ]
    },
    {
      "cell_type": "markdown",
      "metadata": {
        "id": "x5QTgNq2PPC8",
        "colab_type": "text"
      },
      "source": [
        "Exploratory Data Analysis is a process by which we can get an overview of the dataset. Before starting with this dataset we will try to study the dataset."
      ]
    },
    {
      "cell_type": "code",
      "metadata": {
        "id": "P0Rymy5dc5uL",
        "colab_type": "code",
        "colab": {}
      },
      "source": [
        "#Print out the company names in a list\n",
        "companies = list(df_new['airline'].unique())\n",
        "print(companies)"
      ],
      "execution_count": null,
      "outputs": []
    },
    {
      "cell_type": "code",
      "metadata": {
        "id": "r3N8ioVHc5oN",
        "colab_type": "code",
        "colab": {}
      },
      "source": [
        "print(\"Total number of tweets for each airline \\n \",df.groupby('airline')['airline_sentiment'].count().sort_values(ascending=False))\n",
        "#airlines= ['US Airways','United','American','Southwest','Delta','Virgin America']\n",
        "airlines = companies\n",
        "plt.figure(1,figsize=(12, 12))\n",
        "for i in airlines:\n",
        "    indices= airlines.index(i)\n",
        "    plt.subplot(2,3,indices+1)\n",
        "    new_df=df[df['airline']==i]\n",
        "    count=new_df['airline_sentiment'].value_counts()\n",
        "    Index = [1,2,3]\n",
        "    plt.bar(Index,count, color=['red', 'green', 'blue'])\n",
        "    plt.xticks(Index,['negative','neutral','positive'])\n",
        "    plt.ylabel('Mood Count')\n",
        "    plt.xlabel('Mood')\n",
        "    plt.title('Count of Moods of '+i)\n"
      ],
      "execution_count": null,
      "outputs": []
    },
    {
      "cell_type": "code",
      "metadata": {
        "id": "niVRSVaBdCk5",
        "colab_type": "code",
        "colab": {}
      },
      "source": [
        ""
      ],
      "execution_count": null,
      "outputs": []
    },
    {
      "cell_type": "markdown",
      "metadata": {
        "id": "jzBVaRv5dYW6",
        "colab_type": "text"
      },
      "source": [
        "**Examining the most used words**"
      ]
    },
    {
      "cell_type": "code",
      "metadata": {
        "id": "lC82ERp2dCgv",
        "colab_type": "code",
        "colab": {}
      },
      "source": [
        "from wordcloud import WordCloud,STOPWORDS"
      ],
      "execution_count": null,
      "outputs": []
    },
    {
      "cell_type": "code",
      "metadata": {
        "id": "Ry_rWre_dCcR",
        "colab_type": "code",
        "colab": {}
      },
      "source": [
        "new_df=df[df['airline_sentiment']=='negative']\n",
        "words = ' '.join(new_df['text'])\n",
        "cleaned_word = \" \".join([word for word in words.split()\n",
        "                            if 'http' not in word\n",
        "                                and not word.startswith('@')\n",
        "                                and word != 'RT'\n",
        "                            ])\n",
        "wordcloud = WordCloud(stopwords=STOPWORDS,\n",
        "                      background_color='black',\n",
        "                      width=3000,\n",
        "                      height=2500\n",
        "                     ).generate(cleaned_word)\n",
        "plt.figure(1,figsize=(12, 12))\n",
        "plt.imshow(wordcloud)\n",
        "plt.axis('off')\n",
        "plt.show()\n"
      ],
      "execution_count": null,
      "outputs": []
    },
    {
      "cell_type": "code",
      "metadata": {
        "id": "keD8JqQadCXu",
        "colab_type": "code",
        "colab": {}
      },
      "source": [
        ""
      ],
      "execution_count": null,
      "outputs": []
    },
    {
      "cell_type": "code",
      "metadata": {
        "id": "Q0AQLidedCS4",
        "colab_type": "code",
        "colab": {}
      },
      "source": [
        "new_df=df[df['airline_sentiment']=='positive']\n",
        "words = ' '.join(new_df['text'])\n",
        "cleaned_word = \" \".join([word for word in words.split()\n",
        "                            if 'http' not in word\n",
        "                                and not word.startswith('@')\n",
        "                                and word != 'RT'\n",
        "                            ])\n",
        "wordcloud = WordCloud(stopwords=STOPWORDS,\n",
        "                      background_color='black',\n",
        "                      width=3000,\n",
        "                      height=2500\n",
        "                     ).generate(cleaned_word)\n",
        "plt.figure(1,figsize=(12, 12))\n",
        "plt.imshow(wordcloud)\n",
        "plt.axis('off')\n",
        "plt.show()"
      ],
      "execution_count": null,
      "outputs": []
    },
    {
      "cell_type": "code",
      "metadata": {
        "id": "mfWGIfmSdmWx",
        "colab_type": "code",
        "colab": {}
      },
      "source": [
        ""
      ],
      "execution_count": null,
      "outputs": []
    },
    {
      "cell_type": "code",
      "metadata": {
        "id": "A6FUFfM2dmRr",
        "colab_type": "code",
        "colab": {}
      },
      "source": [
        ""
      ],
      "execution_count": null,
      "outputs": []
    },
    {
      "cell_type": "code",
      "metadata": {
        "id": "R2R_i3OYdmMv",
        "colab_type": "code",
        "colab": {}
      },
      "source": [
        "#get the number of negative reasons\n",
        "df['negativereason'].nunique()\n",
        "\n",
        "NR_Count=dict(df['negativereason'].value_counts(sort=False))\n",
        "def NR_Count(Airline):\n",
        "    if Airline=='All':\n",
        "        a=df\n",
        "    else:\n",
        "        a=df[df['airline']==Airline]\n",
        "    count=dict(a['negativereason'].value_counts())\n",
        "    Unique_reason=list(df['negativereason'].unique())\n",
        "    Unique_reason=[x for x in Unique_reason if str(x) != 'nan']\n",
        "    Reason_frame=pd.DataFrame({'Reasons':Unique_reason})\n",
        "    Reason_frame['count']=Reason_frame['Reasons'].apply(lambda x: count[x])\n",
        "    return Reason_frame\n",
        "def plot_reason(Airline):\n",
        "    \n",
        "    a=NR_Count(Airline)\n",
        "    count=a['count']\n",
        "    Index = range(1,(len(a)+1))\n",
        "    plt.bar(Index,count, color=['red','yellow','blue','green','black','brown','gray','cyan','purple','orange'])\n",
        "    plt.xticks(Index,a['Reasons'],rotation=90)\n",
        "    plt.ylabel('Count')\n",
        "    plt.xlabel('Reason')\n",
        "    plt.title('Count of Reasons for '+Airline)\n",
        "    \n",
        "plot_reason('All')\n",
        "plt.figure(2,figsize=(13, 13))\n",
        "for i in airlines:\n",
        "    indices= airlines.index(i)\n",
        "    plt.subplot(2,3,indices+1)\n",
        "    plt.subplots_adjust(hspace=0.9)\n",
        "    plot_reason(i)"
      ],
      "execution_count": null,
      "outputs": []
    },
    {
      "cell_type": "code",
      "metadata": {
        "id": "9-LNzttHeXcX",
        "colab_type": "code",
        "colab": {}
      },
      "source": [
        ""
      ],
      "execution_count": null,
      "outputs": []
    },
    {
      "cell_type": "code",
      "metadata": {
        "id": "00jlfukdeXs9",
        "colab_type": "code",
        "colab": {}
      },
      "source": [
        ""
      ],
      "execution_count": null,
      "outputs": []
    },
    {
      "cell_type": "markdown",
      "metadata": {
        "id": "TxGNrEH2OvqT",
        "colab_type": "text"
      },
      "source": [
        "#Supervised Learning\n",
        "\n",
        "Firstly we will try the classic supervised learning approaches like LogisticRegression, RandomForest, DecisionTree Classifiers."
      ]
    },
    {
      "cell_type": "markdown",
      "metadata": {
        "id": "2O7ybNS9nSM0",
        "colab_type": "text"
      },
      "source": [
        "# Data Cleaning & Wrangling"
      ]
    },
    {
      "cell_type": "code",
      "metadata": {
        "id": "mislBSUgGtyi",
        "colab_type": "code",
        "colab": {}
      },
      "source": [
        "\n",
        "# Dictionary of English Contractions\n",
        "contractions_dict = { \"ain't\": \"are not\",\"'s\":\" is\",\"aren't\": \"are not\",\n",
        "                     \"can't\": \"cannot\",\"can't've\": \"cannot have\",\n",
        "                     \"'cause\": \"because\",\"could've\": \"could have\",\"couldn't\": \"could not\",\n",
        "                     \"couldn't've\": \"could not have\", \"didn't\": \"did not\",\"doesn't\": \"does not\",\n",
        "                     \"don't\": \"do not\",\"hadn't\": \"had not\",\"hadn't've\": \"had not have\",\n",
        "                     \"hasn't\": \"has not\",\"haven't\": \"have not\",\"he'd\": \"he would\",\n",
        "                     \"he'd've\": \"he would have\",\"he'll\": \"he will\", \"he'll've\": \"he will have\",\n",
        "                     \"how'd\": \"how did\",\"how'd'y\": \"how do you\",\"how'll\": \"how will\",\n",
        "                     \"I'd\": \"I would\", \"I'd've\": \"I would have\",\"I'll\": \"I will\",\n",
        "                     \"I'll've\": \"I will have\",\"I'm\": \"I am\",\"I've\": \"I have\", \"isn't\": \"is not\",\n",
        "                     \"it'd\": \"it would\",\"it'd've\": \"it would have\",\"it'll\": \"it will\",\n",
        "                     \"it'll've\": \"it will have\", \"let's\": \"let us\",\"ma'am\": \"madam\",\n",
        "                     \"mayn't\": \"may not\",\"might've\": \"might have\",\"mightn't\": \"might not\", \n",
        "                     \"mightn't've\": \"might not have\",\"must've\": \"must have\",\"mustn't\": \"must not\",\n",
        "                     \"mustn't've\": \"must not have\", \"needn't\": \"need not\",\n",
        "                     \"needn't've\": \"need not have\",\"o'clock\": \"of the clock\",\"oughtn't\": \"ought not\",\n",
        "                     \"oughtn't've\": \"ought not have\",\"shan't\": \"shall not\",\"sha'n't\": \"shall not\",\n",
        "                     \"shan't've\": \"shall not have\",\"she'd\": \"she would\",\"she'd've\": \"she would have\",\n",
        "                     \"she'll\": \"she will\", \"she'll've\": \"she will have\",\"should've\": \"should have\",\n",
        "                     \"shouldn't\": \"should not\", \"shouldn't've\": \"should not have\",\"so've\": \"so have\",\n",
        "                     \"that'd\": \"that would\",\"that'd've\": \"that would have\", \"there'd\": \"there would\",\n",
        "                     \"there'd've\": \"there would have\", \"they'd\": \"they would\",\n",
        "                     \"they'd've\": \"they would have\",\"they'll\": \"they will\",\n",
        "                     \"they'll've\": \"they will have\", \"they're\": \"they are\",\"they've\": \"they have\",\n",
        "                     \"to've\": \"to have\",\"wasn't\": \"was not\",\"we'd\": \"we would\",\n",
        "                     \"we'd've\": \"we would have\",\"we'll\": \"we will\",\"we'll've\": \"we will have\",\n",
        "                     \"we're\": \"we are\",\"we've\": \"we have\", \"weren't\": \"were not\",\"what'll\": \"what will\",\n",
        "                     \"what'll've\": \"what will have\",\"what're\": \"what are\", \"what've\": \"what have\",\n",
        "                     \"when've\": \"when have\",\"where'd\": \"where did\", \"where've\": \"where have\",\n",
        "                     \"who'll\": \"who will\",\"who'll've\": \"who will have\",\"who've\": \"who have\",\n",
        "                     \"why've\": \"why have\",\"will've\": \"will have\",\"won't\": \"will not\",\n",
        "                     \"won't've\": \"will not have\", \"would've\": \"would have\",\"wouldn't\": \"would not\",\n",
        "                     \"wouldn't've\": \"would not have\",\"y'all\": \"you all\", \"y'all'd\": \"you all would\",\n",
        "                     \"y'all'd've\": \"you all would have\",\"y'all're\": \"you all are\",\n",
        "                     \"y'all've\": \"you all have\", \"you'd\": \"you would\",\"you'd've\": \"you would have\",\n",
        "                     \"you'll\": \"you will\",\"you'll've\": \"you will have\", \"you're\": \"you are\",\n",
        "                     \"you've\": \"you have\"}\n",
        "\n",
        "# Regular expression for finding contractions\n",
        "contractions_re=re.compile('(%s)' % '|'.join(contractions_dict.keys()))\n",
        "\n",
        "# Function for expanding contractions\n",
        "def expand_contractions(text,contractions_dict=contractions_dict):\n",
        "  def replace(match):\n",
        "    return contractions_dict[match.group(0)]\n",
        "  return contractions_re.sub(replace, text)\n",
        "\n"
      ],
      "execution_count": null,
      "outputs": []
    },
    {
      "cell_type": "code",
      "metadata": {
        "id": "J5F0f2HQc5yc",
        "colab_type": "code",
        "colab": {}
      },
      "source": [
        ""
      ],
      "execution_count": null,
      "outputs": []
    },
    {
      "cell_type": "markdown",
      "metadata": {
        "id": "bhfIgVdUqpCy",
        "colab_type": "text"
      },
      "source": [
        "Since the tweets contain a lot of tagged user names, money amounts and number so to keep the meaning of them intact let's replace them with meaningful words.\n",
        "\n",
        "All Company names -> company\n",
        "\n",
        "All User Names -> name\n",
        "\n",
        "Money amount -> money\n",
        "\n",
        "Number -> number\n",
        "\n",
        "This will also prevent the model from getting biased towards a particular airlines as our sole reason is to do analysis on the tweets."
      ]
    },
    {
      "cell_type": "code",
      "metadata": {
        "id": "HDVsxguev9p8",
        "colab_type": "code",
        "colab": {}
      },
      "source": [
        ""
      ],
      "execution_count": null,
      "outputs": []
    },
    {
      "cell_type": "code",
      "metadata": {
        "id": "MMbsFO2Vl86-",
        "colab_type": "code",
        "colab": {}
      },
      "source": [
        "#Replace the Twitter handles with tags\n",
        "def replace_tags(df_new):\n",
        "  company_list = ['@VirginAmerica','@AmericanAir','@USAirways','@usairw','@USAirw','@usairways','@JetBlue','@jetBlue','@SouthwestAir','@united']\n",
        "  for ind in df_new.index:\n",
        "    s = df_new['text'][ind]\n",
        "    s1 = ch = \"\"\n",
        "    w = s.split(' ')\n",
        "    #print(w)\n",
        "    for i in range(len(w)):\n",
        "      try:\n",
        "        if w[i][0] == '@':\n",
        "          if w[i] in company_list:\n",
        "            ch = 'Company'\n",
        "          else:\n",
        "            ch = 'Name'\n",
        "        elif w[i][0] == '$' :\n",
        "            ch = 'money'\n",
        "        elif (w[i][0].isdigit()):\n",
        "            ch = 'number'\n",
        "        else:\n",
        "          ch = w[i]\n",
        "      except:\n",
        "        a =0\n",
        "      s1 = s1 + \" \" + ch\n",
        "    df_new['text'][ind] = s1\n",
        "\n",
        "  return df_new\n"
      ],
      "execution_count": null,
      "outputs": []
    },
    {
      "cell_type": "code",
      "metadata": {
        "id": "kMNisfNDxKDI",
        "colab_type": "code",
        "colab": {}
      },
      "source": [
        "#Examining a few Tweets\n",
        "print('Before Data Wrangling')\n",
        "print('Tweet Sentiment :',df_new['airline_sentiment'][5])\n",
        "print('Tweet :',df_new['text'][5])"
      ],
      "execution_count": null,
      "outputs": []
    },
    {
      "cell_type": "code",
      "metadata": {
        "id": "nH7AYETkiSMj",
        "colab_type": "code",
        "colab": {}
      },
      "source": [
        "def data_wrangling(df_new):\n",
        "  # Expanding Contractions in the reviews\n",
        "  df_new['text']=df_new['text'].apply(lambda x:expand_contractions(x))\n",
        "  print('Contractions expanded !')\n",
        "  df_new = replace_tags(df_new)\n",
        "  print('Profile Tags replaced !')\n",
        "\n",
        "data_wrangling(df_new)"
      ],
      "execution_count": null,
      "outputs": []
    },
    {
      "cell_type": "code",
      "metadata": {
        "id": "ch_ScaklxPlq",
        "colab_type": "code",
        "colab": {}
      },
      "source": [
        "#Examining a few Tweets\n",
        "print('After Replacements')\n",
        "print('Tweet Sentiment :',df_new['airline_sentiment'][5])\n",
        "print('Tweet :',df_new['text'][5])"
      ],
      "execution_count": null,
      "outputs": []
    },
    {
      "cell_type": "code",
      "metadata": {
        "id": "Si9n0Zurrd9d",
        "colab_type": "code",
        "colab": {}
      },
      "source": [
        "#Print out the company names in a list\n",
        "l = list(df_new['airline'].unique())\n",
        "print(l)"
      ],
      "execution_count": null,
      "outputs": []
    },
    {
      "cell_type": "markdown",
      "metadata": {
        "id": "sURBblSpxftW",
        "colab_type": "text"
      },
      "source": [
        "This makes sense now "
      ]
    },
    {
      "cell_type": "code",
      "metadata": {
        "id": "avObIwg2Gt6g",
        "colab_type": "code",
        "colab": {}
      },
      "source": [
        "#df_new['text']=df_new['text'].apply(lambda x: x.lower())\n",
        "df_new['text']=df_new['text'].apply(lambda x: re.sub('\\w*\\d\\w*','', x))\n",
        "#Removing Punctuations\n",
        "df_new['text']=df_new['text'].apply(lambda x: re.sub('[%s]' % re.escape(string.punctuation), '', x))\n",
        "#Removing extra spaces\n",
        "df_new['text']=df_new['text'].apply(lambda x: re.sub(' +',' ',x))"
      ],
      "execution_count": null,
      "outputs": []
    },
    {
      "cell_type": "code",
      "metadata": {
        "id": "Y20ZGTr3x9wP",
        "colab_type": "code",
        "colab": {}
      },
      "source": [
        "#Examining a few Tweets\n",
        "print('After Data Cleaning')\n",
        "print('Tweet Sentiment :',df_new['airline_sentiment'][5])\n",
        "print('Tweet :',df_new['text'][5])"
      ],
      "execution_count": null,
      "outputs": []
    },
    {
      "cell_type": "code",
      "metadata": {
        "id": "UAgvSZXqluId",
        "colab_type": "code",
        "colab": {}
      },
      "source": [
        "#df_new.to_csv('tweets_cleaned.csv')"
      ],
      "execution_count": null,
      "outputs": []
    },
    {
      "cell_type": "code",
      "metadata": {
        "id": "X40FLJAwJQ-p",
        "colab_type": "code",
        "colab": {}
      },
      "source": [
        ""
      ],
      "execution_count": null,
      "outputs": []
    },
    {
      "cell_type": "markdown",
      "metadata": {
        "id": "Z5sJ5kc3qMOZ",
        "colab_type": "text"
      },
      "source": [
        "# Feature Engineering"
      ]
    },
    {
      "cell_type": "markdown",
      "metadata": {
        "id": "gLFld4YMqTFN",
        "colab_type": "text"
      },
      "source": [
        "Creating features out of the dataset"
      ]
    },
    {
      "cell_type": "code",
      "metadata": {
        "id": "0SyUYyNk7uGs",
        "colab_type": "code",
        "colab": {}
      },
      "source": [
        "#list of columns\n",
        "df_new.isnull().sum()"
      ],
      "execution_count": null,
      "outputs": []
    },
    {
      "cell_type": "markdown",
      "metadata": {
        "id": "mr8TIeKF87Jd",
        "colab_type": "text"
      },
      "source": [
        "For creating the feature columns we select "
      ]
    },
    {
      "cell_type": "markdown",
      "metadata": {
        "id": "zc4kLub9k_dP",
        "colab_type": "text"
      },
      "source": [
        "**Creating Text Based Features**"
      ]
    },
    {
      "cell_type": "code",
      "metadata": {
        "id": "IlWVs_lso1od",
        "colab_type": "code",
        "colab": {}
      },
      "source": [
        ""
      ],
      "execution_count": null,
      "outputs": []
    },
    {
      "cell_type": "code",
      "metadata": {
        "id": "5GKyyWoG8oRZ",
        "colab_type": "code",
        "colab": {}
      },
      "source": [
        "#taking only the text data column lets try to do Feature Engineering on this\n",
        "text_features = df_new[['text']]\n",
        "text_features.head(3)"
      ],
      "execution_count": null,
      "outputs": []
    },
    {
      "cell_type": "code",
      "metadata": {
        "id": "A7Gwq1VKqQ-h",
        "colab_type": "code",
        "colab": {}
      },
      "source": [
        "import string\n",
        "\n",
        "text_features['char_count'] = text_features['text'].apply(len)\n",
        "text_features['word_count'] = text_features['text'].apply(lambda x: len(x.split()))\n",
        "text_features['word_density'] = text_features['char_count'] / (text_features['word_count']+1)\n",
        "#text_features['punctuation_count'] = text_features['Review'].apply(lambda x: len(\"\".join(_ for _ in x if _ in string.punctuation))) \n",
        "text_features['title_word_count'] = text_features['text'].apply(lambda x: len([wrd for wrd in x.split() if wrd.istitle()]))\n",
        "text_features['upper_case_word_count'] = text_features['text'].apply(lambda x: len([wrd for wrd in x.split() if wrd.isupper()]))\n"
      ],
      "execution_count": null,
      "outputs": []
    },
    {
      "cell_type": "code",
      "metadata": {
        "id": "Ry5euqA_BGje",
        "colab_type": "code",
        "colab": {}
      },
      "source": [
        "text_features.head(5)"
      ],
      "execution_count": null,
      "outputs": []
    },
    {
      "cell_type": "code",
      "metadata": {
        "id": "qTeifv2JMARh",
        "colab_type": "code",
        "colab": {}
      },
      "source": [
        ""
      ],
      "execution_count": null,
      "outputs": []
    },
    {
      "cell_type": "markdown",
      "metadata": {
        "id": "7un6kgO8MA-M",
        "colab_type": "text"
      },
      "source": [
        " **Feature extraction with TextBlob**\n",
        "\n",
        "When doing a sentiment analysis we are trying to determine the attitude or the emotion of the person who is writing the review whether the writing is positive, negative or neutral.\n",
        "\n",
        "TextBlob has a feature for calculating **polarity** and **subjectivity** of the writing. \n",
        "\n",
        "Polarity is a value that ranges from [-1,1] where -1 denotes negative and +1 denotes positive. \n",
        "Subjectivity refers to personal opinions, emotion or judgement. This is also a float value and ranges between [0,1]"
      ]
    },
    {
      "cell_type": "code",
      "metadata": {
        "id": "TLIwcrd4OWM9",
        "colab_type": "code",
        "colab": {}
      },
      "source": [
        "import textblob"
      ],
      "execution_count": null,
      "outputs": []
    },
    {
      "cell_type": "code",
      "metadata": {
        "id": "rL75pLzUNbPy",
        "colab_type": "code",
        "colab": {}
      },
      "source": [
        "#Lets try it out on some reviews\n",
        "p = \"@VirginAmerica plus you've added commercials to the experience... tacky.\"\n",
        "print(textblob.TextBlob(p).sentiment)\n",
        "n = \"@VirginAmerica seriously would pay $30 a flight for seats that didn't have this playing. it's really the only bad thing about flying VA\"\n",
        "print(textblob.TextBlob(n).sentiment)\n",
        "nn = \"@VirginAmerica What @dhepburn said.\"\n",
        "print(textblob.TextBlob(nn).sentiment)"
      ],
      "execution_count": null,
      "outputs": []
    },
    {
      "cell_type": "markdown",
      "metadata": {
        "id": "6lg138N2OeUi",
        "colab_type": "text"
      },
      "source": [
        "The second review has a negative polarity which shows that it is a negative review (which is right) rest of the reviews are classified as neutral. \n",
        "\n",
        "This polarity and subjectivity can be added as a feature of this the dataset"
      ]
    },
    {
      "cell_type": "code",
      "metadata": {
        "id": "vJgBqPbDN8An",
        "colab_type": "code",
        "colab": {}
      },
      "source": [
        ""
      ],
      "execution_count": null,
      "outputs": []
    },
    {
      "cell_type": "code",
      "metadata": {
        "id": "ZmNBKribqQ7N",
        "colab_type": "code",
        "colab": {}
      },
      "source": [
        "sentiment_obj = text_features['text'].apply(lambda row: textblob.TextBlob(row).sentiment)\n",
        "text_features['Polarity'] = [obj.polarity for obj in sentiment_obj.values]\n",
        "text_features['Subjectivity'] = [obj.subjectivity for obj in sentiment_obj.values]"
      ],
      "execution_count": null,
      "outputs": []
    },
    {
      "cell_type": "code",
      "metadata": {
        "id": "a63Sj95fqnWd",
        "colab_type": "code",
        "colab": {}
      },
      "source": [
        "text_features.head(3)"
      ],
      "execution_count": null,
      "outputs": []
    },
    {
      "cell_type": "code",
      "metadata": {
        "id": "1d0eKo87qnp1",
        "colab_type": "code",
        "colab": {}
      },
      "source": [
        ""
      ],
      "execution_count": null,
      "outputs": []
    },
    {
      "cell_type": "markdown",
      "metadata": {
        "id": "hxYprWZ4T7Bt",
        "colab_type": "text"
      },
      "source": [
        "Now that we have a set of features lets train a basic model, a logistic regression model on this dataset"
      ]
    },
    {
      "cell_type": "markdown",
      "metadata": {
        "id": "D7FUaU4EULP1",
        "colab_type": "text"
      },
      "source": [
        "**Training and Test set splitting**"
      ]
    },
    {
      "cell_type": "code",
      "metadata": {
        "id": "I9wllEqMUioG",
        "colab_type": "code",
        "colab": {}
      },
      "source": [
        "from sklearn.model_selection import train_test_split\n",
        "from collections import Counter"
      ],
      "execution_count": null,
      "outputs": []
    },
    {
      "cell_type": "code",
      "metadata": {
        "id": "Cxj0I3mbqnTY",
        "colab_type": "code",
        "colab": {}
      },
      "source": [
        "X_train, X_test, y_train, y_test = train_test_split(text_features.drop(['text'],axis=1), df_new['airline_sentiment'], random_state=42)\n",
        "X_train.shape, X_test.shape"
      ],
      "execution_count": null,
      "outputs": []
    },
    {
      "cell_type": "code",
      "metadata": {
        "id": "-HLZAOPKWP_r",
        "colab_type": "code",
        "colab": {}
      },
      "source": [
        "\"\"\"\n",
        "from sklearn.preprocessing import StandardScaler\n",
        "\n",
        "# Feature Scaling\n",
        "scaler = StandardScaler()\n",
        "#X_train = scaler.fit_transform(X_train)\n",
        "X_test = scaler.fit_transform(X_test)\n",
        "\"\"\""
      ],
      "execution_count": null,
      "outputs": []
    },
    {
      "cell_type": "code",
      "metadata": {
        "id": "HtKG0R4EqnQR",
        "colab_type": "code",
        "colab": {}
      },
      "source": [
        "Counter(y_train), Counter(y_test)"
      ],
      "execution_count": null,
      "outputs": []
    },
    {
      "cell_type": "code",
      "metadata": {
        "id": "H6Y3nJbbG8Ne",
        "colab_type": "code",
        "colab": {}
      },
      "source": [
        "# Transforming non numerical labels into numerical labels\n",
        "from sklearn import preprocessing\n",
        "encoder = preprocessing.LabelEncoder()\n",
        "\n",
        "# encoding train labels \n",
        "encoder.fit(y_train)\n",
        "Y_train = encoder.transform(y_train)\n",
        "\n",
        "# encoding test labels \n",
        "encoder.fit(y_test)\n",
        "Y_test = encoder.transform(y_test)\n"
      ],
      "execution_count": null,
      "outputs": []
    },
    {
      "cell_type": "code",
      "metadata": {
        "id": "aIFG-SxHh2Hv",
        "colab_type": "code",
        "colab": {}
      },
      "source": [
        ""
      ],
      "execution_count": null,
      "outputs": []
    },
    {
      "cell_type": "markdown",
      "metadata": {
        "id": "JQhROJGMh24u",
        "colab_type": "text"
      },
      "source": [
        "**Defining a Logistic Regressor**"
      ]
    },
    {
      "cell_type": "code",
      "metadata": {
        "id": "ZwUo9bQTh2EG",
        "colab_type": "code",
        "colab": {}
      },
      "source": [
        "from sklearn.linear_model import LogisticRegression\n",
        "from sklearn.metrics import confusion_matrix, classification_report\n",
        "\n",
        "lr = LogisticRegression(C=1, random_state=42, solver='liblinear')"
      ],
      "execution_count": null,
      "outputs": []
    },
    {
      "cell_type": "code",
      "metadata": {
        "id": "dEdr_izrh1_W",
        "colab_type": "code",
        "colab": {}
      },
      "source": [
        "lr.fit(X_train, Y_train)\n",
        "predictions = lr.predict(X_test)\n",
        "\n",
        "print(classification_report(Y_test, predictions))\n",
        "pd.DataFrame(confusion_matrix(Y_test, predictions))\n"
      ],
      "execution_count": null,
      "outputs": []
    },
    {
      "cell_type": "code",
      "metadata": {
        "id": "GO6MvgaLh17n",
        "colab_type": "code",
        "colab": {}
      },
      "source": [
        ""
      ],
      "execution_count": null,
      "outputs": []
    },
    {
      "cell_type": "markdown",
      "metadata": {
        "id": "DrXAbYcnj2zz",
        "colab_type": "text"
      },
      "source": [
        "**Trying another algorithm - Random Forest**"
      ]
    },
    {
      "cell_type": "code",
      "metadata": {
        "id": "NuGqO9PRh13D",
        "colab_type": "code",
        "colab": {}
      },
      "source": [
        "from sklearn.ensemble import RandomForestClassifier\n",
        "\n",
        "# Fitting Random Forest Classification to the Training set\n",
        "classifier_ = RandomForestClassifier(n_estimators = 20, criterion = 'entropy', random_state = 42)\n",
        "classifier_.fit(X_train, Y_train)"
      ],
      "execution_count": null,
      "outputs": []
    },
    {
      "cell_type": "code",
      "metadata": {
        "id": "Rku213VrkEGU",
        "colab_type": "code",
        "colab": {}
      },
      "source": [
        "# Predicting the Test set results\n",
        "y_pred = classifier_.predict(X_test)\n",
        "\n",
        "print(classification_report(Y_test, y_pred))\n",
        "pd.DataFrame(confusion_matrix(Y_test, y_pred))\n"
      ],
      "execution_count": null,
      "outputs": []
    },
    {
      "cell_type": "code",
      "metadata": {
        "id": "ThxO2RrtnQng",
        "colab_type": "code",
        "colab": {}
      },
      "source": [
        ""
      ],
      "execution_count": null,
      "outputs": []
    },
    {
      "cell_type": "markdown",
      "metadata": {
        "id": "J4Pz27Vknann",
        "colab_type": "text"
      },
      "source": [
        "Write a note on the results !"
      ]
    },
    {
      "cell_type": "markdown",
      "metadata": {
        "id": "4h68qVziJSyU",
        "colab_type": "text"
      },
      "source": [
        "# Preparing the Data"
      ]
    },
    {
      "cell_type": "markdown",
      "metadata": {
        "id": "_ZqrHfImnkz5",
        "colab_type": "text"
      },
      "source": [
        "Using the Count based and sentiment based features we got the results as shown above, which is pretty good as a base model. Now, lets do more Feature engineering so that the model can learn the sentiments more precisely.  "
      ]
    },
    {
      "cell_type": "code",
      "metadata": {
        "id": "mECVhivIJQ4D",
        "colab_type": "code",
        "colab": {}
      },
      "source": [
        ""
      ],
      "execution_count": null,
      "outputs": []
    },
    {
      "cell_type": "markdown",
      "metadata": {
        "id": "MCqKxFYAtwOh",
        "colab_type": "text"
      },
      "source": [
        "**Text Pre-processing and Data Wrangling**"
      ]
    },
    {
      "cell_type": "code",
      "metadata": {
        "id": "o-lqkORkJSF4",
        "colab_type": "code",
        "colab": {}
      },
      "source": [
        "#text_features"
      ],
      "execution_count": null,
      "outputs": []
    },
    {
      "cell_type": "code",
      "metadata": {
        "id": "OecrxzR8JSDe",
        "colab_type": "code",
        "colab": {}
      },
      "source": [
        "text_features['Clean_Text'] = text_features['text'].apply(lambda row: textblob.TextBlob(row).correct())\n",
        "#text_features['Polarity'] = [obj.polarity for obj in sentiment_obj.values]\n"
      ],
      "execution_count": null,
      "outputs": []
    },
    {
      "cell_type": "code",
      "metadata": {
        "id": "4UU-bu1bJSA8",
        "colab_type": "code",
        "colab": {}
      },
      "source": [
        "text_features.head(3)"
      ],
      "execution_count": null,
      "outputs": []
    },
    {
      "cell_type": "code",
      "metadata": {
        "id": "cvKTBC0-JR-g",
        "colab_type": "code",
        "colab": {}
      },
      "source": [
        "text_features['Clean_Text']=text_features['Clean_Text'].apply(lambda x: x.lower())"
      ],
      "execution_count": null,
      "outputs": []
    },
    {
      "cell_type": "code",
      "metadata": {
        "id": "TtlPK0bdJR7r",
        "colab_type": "code",
        "colab": {}
      },
      "source": [
        ""
      ],
      "execution_count": null,
      "outputs": []
    },
    {
      "cell_type": "markdown",
      "metadata": {
        "id": "9ZfCtlS0zNUO",
        "colab_type": "text"
      },
      "source": [
        "Removing Stop words"
      ]
    },
    {
      "cell_type": "code",
      "metadata": {
        "id": "nvd04bhG2fG2",
        "colab_type": "code",
        "colab": {}
      },
      "source": [
        "!pip install tqdm"
      ],
      "execution_count": null,
      "outputs": []
    },
    {
      "cell_type": "code",
      "metadata": {
        "id": "nDG0Vt4pJR6M",
        "colab_type": "code",
        "colab": {}
      },
      "source": [
        "import nltk\n",
        "nltk.download('punkt')\n",
        "nltk.download('stopwords')\n",
        "# remove some stopwords to capture negation in n-grams if possible\n",
        "stop_words = nltk.corpus.stopwords.words('english')\n",
        "\n",
        "stop_words.remove('no')\n",
        "stop_words.remove('not')\n",
        "stop_words.remove('but')\n",
        "\n",
        "#analyse the most negative words and remove according to the dataset DO IT AFTER EDA\n"
      ],
      "execution_count": null,
      "outputs": []
    },
    {
      "cell_type": "code",
      "metadata": {
        "id": "0MppLw9czRzA",
        "colab_type": "code",
        "colab": {}
      },
      "source": [
        "# stopwords removal\n",
        "def remove_stopwords(row):\n",
        "  row = ' '.join([word for word in row.split() if word not in stop_words])\n",
        "  return row\n",
        "\n",
        "text_features['Clean_Text'] = [remove_stopwords(row) for row in text_features['text'] ]\n",
        "    "
      ],
      "execution_count": null,
      "outputs": []
    },
    {
      "cell_type": "code",
      "metadata": {
        "id": "9cb0VF9KzRus",
        "colab_type": "code",
        "colab": {}
      },
      "source": [
        "text_features['Clean_Text']=text_features['Clean_Text'].apply(lambda x: x.lower())\n",
        "text_features.head(3)"
      ],
      "execution_count": null,
      "outputs": []
    },
    {
      "cell_type": "code",
      "metadata": {
        "id": "OWXDjQ3hzRs-",
        "colab_type": "code",
        "colab": {}
      },
      "source": [
        ""
      ],
      "execution_count": null,
      "outputs": []
    },
    {
      "cell_type": "code",
      "metadata": {
        "id": "psUYUfm45GQG",
        "colab_type": "code",
        "colab": {}
      },
      "source": [
        "from sklearn.feature_extraction.text import TfidfVectorizer\n",
        "\n",
        "tv = TfidfVectorizer(min_df=0., max_df=1., use_idf=True)\n",
        "tv_matrix = tv.fit_transform(text_features['Clean_Text'])\n",
        "tv_matrix = tv_matrix.toarray()\n",
        "\n",
        "vocab = tv.get_feature_names()\n",
        "tf_vectors = pd.DataFrame(np.round(tv_matrix, 2), columns=vocab)"
      ],
      "execution_count": null,
      "outputs": []
    },
    {
      "cell_type": "code",
      "metadata": {
        "id": "JpSDit0C5GTS",
        "colab_type": "code",
        "colab": {}
      },
      "source": [
        "tf_vectors.head(3)"
      ],
      "execution_count": null,
      "outputs": []
    },
    {
      "cell_type": "code",
      "metadata": {
        "id": "jakDEHTP8AQZ",
        "colab_type": "code",
        "colab": {}
      },
      "source": [
        "text_features_tf = pd.concat([text_features, tf_vectors], axis=1)\n",
        "text_features_tf.head(3)"
      ],
      "execution_count": null,
      "outputs": []
    },
    {
      "cell_type": "code",
      "metadata": {
        "id": "qNKLtFYzICGS",
        "colab_type": "code",
        "colab": {}
      },
      "source": [
        "X_train_, X_test_, y_train_, y_test_ = train_test_split(text_features_tf.drop(['text','Clean_Text'],axis=1), df_new['airline_sentiment'], random_state=42)\n",
        "X_train_.shape, X_test_.shape"
      ],
      "execution_count": null,
      "outputs": []
    },
    {
      "cell_type": "code",
      "metadata": {
        "id": "xymOi1-2XwZR",
        "colab_type": "code",
        "colab": {}
      },
      "source": [
        ""
      ],
      "execution_count": null,
      "outputs": []
    },
    {
      "cell_type": "code",
      "metadata": {
        "id": "CkfTSgZWHUY9",
        "colab_type": "code",
        "colab": {}
      },
      "source": [
        "# Transforming non numerical labels into numerical labels\n",
        "from sklearn import preprocessing\n",
        "encoder = preprocessing.LabelEncoder()\n",
        "\n",
        "# encoding train labels \n",
        "encoder.fit(y_train_)\n",
        "Y_train = encoder.transform(y_train_)\n",
        "\n",
        "# encoding test labels \n",
        "encoder.fit(y_test_)\n",
        "Y_test = encoder.transform(y_test_)\n"
      ],
      "execution_count": null,
      "outputs": []
    },
    {
      "cell_type": "code",
      "metadata": {
        "id": "5ZbFTqu-HS8d",
        "colab_type": "code",
        "colab": {}
      },
      "source": [
        "# Scaling the Train and Test feature set \n",
        "from sklearn.preprocessing import StandardScaler\n",
        "scaler = StandardScaler()\n",
        "X_train_scaled = scaler.fit_transform(X_train)\n",
        "X_test_scaled = scaler.transform(X_test)\n"
      ],
      "execution_count": null,
      "outputs": []
    },
    {
      "cell_type": "code",
      "metadata": {
        "id": "e5rb231H9TA-",
        "colab_type": "code",
        "colab": {}
      },
      "source": [
        "Counter(y_train_), Counter(y_test_)"
      ],
      "execution_count": null,
      "outputs": []
    },
    {
      "cell_type": "code",
      "metadata": {
        "id": "bnYZTzdJ9pRU",
        "colab_type": "code",
        "colab": {}
      },
      "source": [
        "classifier_lr= LogisticRegression(C=1, random_state=42, solver='liblinear')\n",
        "classifier_lr.fit(X_train_scaled, Y_train)"
      ],
      "execution_count": null,
      "outputs": []
    },
    {
      "cell_type": "code",
      "metadata": {
        "id": "jn1dHvvW9pMx",
        "colab_type": "code",
        "colab": {}
      },
      "source": [
        "predictions = classifier_lr.predict(X_test_scaled)\n",
        "print(classification_report(Y_test, predictions))\n",
        "pd.DataFrame(confusion_matrix(Y_test, predictions))"
      ],
      "execution_count": null,
      "outputs": []
    },
    {
      "cell_type": "code",
      "metadata": {
        "id": "8QZxCLpu9pHy",
        "colab_type": "code",
        "colab": {}
      },
      "source": [
        "from sklearn.ensemble import RandomForestClassifier\n",
        "\n",
        "# Fitting Random Forest Classification to the Training set\n",
        "classifier_rfc = RandomForestClassifier(n_estimators = 200 )#, criterion = 'entropy', random_state = 42)\n",
        "classifier_rfc.fit(X_train_scaled, Y_train)"
      ],
      "execution_count": null,
      "outputs": []
    },
    {
      "cell_type": "code",
      "metadata": {
        "id": "MTf-SWrp9pGY",
        "colab_type": "code",
        "colab": {}
      },
      "source": [
        "# Predicting the Test set results\n",
        "y_pred = classifier_rfc.predict(X_test_scaled)\n",
        "\n",
        "print(classification_report(Y_test, y_pred))\n",
        "pd.DataFrame(confusion_matrix(Y_test, y_pred))\n"
      ],
      "execution_count": null,
      "outputs": []
    },
    {
      "cell_type": "code",
      "metadata": {
        "id": "Z5AAO1pq9ykN",
        "colab_type": "code",
        "colab": {}
      },
      "source": [
        "X_train_scaled"
      ],
      "execution_count": null,
      "outputs": []
    },
    {
      "cell_type": "code",
      "metadata": {
        "id": "NDGTsqAavURL",
        "colab_type": "code",
        "colab": {}
      },
      "source": [
        "from sklearn.svm import SVC\n"
      ],
      "execution_count": null,
      "outputs": []
    },
    {
      "cell_type": "code",
      "metadata": {
        "id": "pgdSojPWvUMc",
        "colab_type": "code",
        "colab": {}
      },
      "source": [
        "classifier_svm = SVC(kernel='rbf',gamma=0.0001,C=1000)\n",
        "classifier_svm.fit(X_train_scaled, Y_train)"
      ],
      "execution_count": null,
      "outputs": []
    },
    {
      "cell_type": "code",
      "metadata": {
        "id": "8_Zi4_HHvUKa",
        "colab_type": "code",
        "colab": {}
      },
      "source": [
        "# Predicting the Test set results\n",
        "y_pred = classifier_svm.predict(X_test_scaled)\n",
        "\n",
        "print(classification_report(Y_test, y_pred))\n",
        "pd.DataFrame(confusion_matrix(Y_test, y_pred))\n"
      ],
      "execution_count": null,
      "outputs": []
    },
    {
      "cell_type": "code",
      "metadata": {
        "id": "fm2LTI_xzGbI",
        "colab_type": "code",
        "colab": {}
      },
      "source": [
        ""
      ],
      "execution_count": null,
      "outputs": []
    },
    {
      "cell_type": "markdown",
      "metadata": {
        "id": "bgj0jN64Scku",
        "colab_type": "text"
      },
      "source": [
        "**Conclusions:**\n",
        "\n",
        "    1. Even after increasing the feature columns, there is no significant improvement in the accuracy.\n",
        "    2. The Results obtained by SVM is the worst till now, hence SVM is not the kind of algorithm fit for this dataset.\n",
        "    3. Every Model can predict the negative sentiments well which is due to the imbalanced nature of the dataset."
      ]
    },
    {
      "cell_type": "code",
      "metadata": {
        "id": "IHNNjR8nzGWG",
        "colab_type": "code",
        "colab": {}
      },
      "source": [
        ""
      ],
      "execution_count": null,
      "outputs": []
    },
    {
      "cell_type": "code",
      "metadata": {
        "id": "c0MDXddAzGRQ",
        "colab_type": "code",
        "colab": {}
      },
      "source": [
        ""
      ],
      "execution_count": null,
      "outputs": []
    },
    {
      "cell_type": "markdown",
      "metadata": {
        "id": "dHDRQDcUzHhc",
        "colab_type": "text"
      },
      "source": [
        "# Semi - Supervised Learning : ULMFit"
      ]
    },
    {
      "cell_type": "markdown",
      "metadata": {
        "id": "B4cB6VozNHKh",
        "colab_type": "text"
      },
      "source": [
        "After exploring the few supervised techniques lets try how an semi-supervised algorithm can fit on this dataset. For the Semi-Supervised Technique we will take fast.ai 's ULMFit technique which is an approach to implement transfer learning in NLP.\n",
        "\n",
        "The process to be followed here on is quite different from the ones that have been followed till now."
      ]
    },
    {
      "cell_type": "code",
      "metadata": {
        "id": "X5mKAusZUCru",
        "colab_type": "code",
        "colab": {}
      },
      "source": [
        "#start by installing the fast.ai package\n",
        "!pip install fastai"
      ],
      "execution_count": null,
      "outputs": []
    },
    {
      "cell_type": "code",
      "metadata": {
        "id": "x1aMI9CGzOXb",
        "colab_type": "code",
        "colab": {}
      },
      "source": [
        "# import libraries\n",
        "import fastai\n",
        "from fastai import *\n",
        "from fastai.text import * \n",
        "import pandas as pd\n",
        "import numpy as np\n",
        "from functools import partial\n",
        "import io\n",
        "import os"
      ],
      "execution_count": 3,
      "outputs": []
    },
    {
      "cell_type": "code",
      "metadata": {
        "id": "HtPpqNVJNqS-",
        "colab_type": "code",
        "colab": {
          "base_uri": "https://localhost:8080/",
          "height": 298
        },
        "outputId": "77d628a6-3a6a-4854-f229-a9ae48874626"
      },
      "source": [
        "#Lets start by importing the dataset all over again.\n",
        "df = pd.read_csv('Tweets.csv')\n",
        "df.head(3)"
      ],
      "execution_count": 4,
      "outputs": [
        {
          "output_type": "execute_result",
          "data": {
            "text/html": [
              "<div>\n",
              "<style scoped>\n",
              "    .dataframe tbody tr th:only-of-type {\n",
              "        vertical-align: middle;\n",
              "    }\n",
              "\n",
              "    .dataframe tbody tr th {\n",
              "        vertical-align: top;\n",
              "    }\n",
              "\n",
              "    .dataframe thead th {\n",
              "        text-align: right;\n",
              "    }\n",
              "</style>\n",
              "<table border=\"1\" class=\"dataframe\">\n",
              "  <thead>\n",
              "    <tr style=\"text-align: right;\">\n",
              "      <th></th>\n",
              "      <th>tweet_id</th>\n",
              "      <th>airline_sentiment</th>\n",
              "      <th>airline_sentiment_confidence</th>\n",
              "      <th>negativereason</th>\n",
              "      <th>negativereason_confidence</th>\n",
              "      <th>airline</th>\n",
              "      <th>airline_sentiment_gold</th>\n",
              "      <th>name</th>\n",
              "      <th>negativereason_gold</th>\n",
              "      <th>retweet_count</th>\n",
              "      <th>text</th>\n",
              "      <th>tweet_coord</th>\n",
              "      <th>tweet_created</th>\n",
              "      <th>tweet_location</th>\n",
              "      <th>user_timezone</th>\n",
              "    </tr>\n",
              "  </thead>\n",
              "  <tbody>\n",
              "    <tr>\n",
              "      <th>0</th>\n",
              "      <td>570306133677760513</td>\n",
              "      <td>neutral</td>\n",
              "      <td>1.0000</td>\n",
              "      <td>NaN</td>\n",
              "      <td>NaN</td>\n",
              "      <td>Virgin America</td>\n",
              "      <td>NaN</td>\n",
              "      <td>cairdin</td>\n",
              "      <td>NaN</td>\n",
              "      <td>0</td>\n",
              "      <td>@VirginAmerica What @dhepburn said.</td>\n",
              "      <td>NaN</td>\n",
              "      <td>2015-02-24 11:35:52 -0800</td>\n",
              "      <td>NaN</td>\n",
              "      <td>Eastern Time (US &amp; Canada)</td>\n",
              "    </tr>\n",
              "    <tr>\n",
              "      <th>1</th>\n",
              "      <td>570301130888122368</td>\n",
              "      <td>positive</td>\n",
              "      <td>0.3486</td>\n",
              "      <td>NaN</td>\n",
              "      <td>0.0</td>\n",
              "      <td>Virgin America</td>\n",
              "      <td>NaN</td>\n",
              "      <td>jnardino</td>\n",
              "      <td>NaN</td>\n",
              "      <td>0</td>\n",
              "      <td>@VirginAmerica plus you've added commercials t...</td>\n",
              "      <td>NaN</td>\n",
              "      <td>2015-02-24 11:15:59 -0800</td>\n",
              "      <td>NaN</td>\n",
              "      <td>Pacific Time (US &amp; Canada)</td>\n",
              "    </tr>\n",
              "    <tr>\n",
              "      <th>2</th>\n",
              "      <td>570301083672813571</td>\n",
              "      <td>neutral</td>\n",
              "      <td>0.6837</td>\n",
              "      <td>NaN</td>\n",
              "      <td>NaN</td>\n",
              "      <td>Virgin America</td>\n",
              "      <td>NaN</td>\n",
              "      <td>yvonnalynn</td>\n",
              "      <td>NaN</td>\n",
              "      <td>0</td>\n",
              "      <td>@VirginAmerica I didn't today... Must mean I n...</td>\n",
              "      <td>NaN</td>\n",
              "      <td>2015-02-24 11:15:48 -0800</td>\n",
              "      <td>Lets Play</td>\n",
              "      <td>Central Time (US &amp; Canada)</td>\n",
              "    </tr>\n",
              "  </tbody>\n",
              "</table>\n",
              "</div>"
            ],
            "text/plain": [
              "             tweet_id  ...               user_timezone\n",
              "0  570306133677760513  ...  Eastern Time (US & Canada)\n",
              "1  570301130888122368  ...  Pacific Time (US & Canada)\n",
              "2  570301083672813571  ...  Central Time (US & Canada)\n",
              "\n",
              "[3 rows x 15 columns]"
            ]
          },
          "metadata": {
            "tags": []
          },
          "execution_count": 4
        }
      ]
    },
    {
      "cell_type": "code",
      "metadata": {
        "id": "JBqbHIPGNqQL",
        "colab_type": "code",
        "colab": {
          "base_uri": "https://localhost:8080/",
          "height": 142
        },
        "outputId": "1b19d45c-30ac-4be1-a047-e2d965edfe34"
      },
      "source": [
        "#Lets take out the columns that we are more interested in \n",
        "dataset = df[['text','airline_sentiment']]\n",
        "dataset.head(3)"
      ],
      "execution_count": 5,
      "outputs": [
        {
          "output_type": "execute_result",
          "data": {
            "text/html": [
              "<div>\n",
              "<style scoped>\n",
              "    .dataframe tbody tr th:only-of-type {\n",
              "        vertical-align: middle;\n",
              "    }\n",
              "\n",
              "    .dataframe tbody tr th {\n",
              "        vertical-align: top;\n",
              "    }\n",
              "\n",
              "    .dataframe thead th {\n",
              "        text-align: right;\n",
              "    }\n",
              "</style>\n",
              "<table border=\"1\" class=\"dataframe\">\n",
              "  <thead>\n",
              "    <tr style=\"text-align: right;\">\n",
              "      <th></th>\n",
              "      <th>text</th>\n",
              "      <th>airline_sentiment</th>\n",
              "    </tr>\n",
              "  </thead>\n",
              "  <tbody>\n",
              "    <tr>\n",
              "      <th>0</th>\n",
              "      <td>@VirginAmerica What @dhepburn said.</td>\n",
              "      <td>neutral</td>\n",
              "    </tr>\n",
              "    <tr>\n",
              "      <th>1</th>\n",
              "      <td>@VirginAmerica plus you've added commercials t...</td>\n",
              "      <td>positive</td>\n",
              "    </tr>\n",
              "    <tr>\n",
              "      <th>2</th>\n",
              "      <td>@VirginAmerica I didn't today... Must mean I n...</td>\n",
              "      <td>neutral</td>\n",
              "    </tr>\n",
              "  </tbody>\n",
              "</table>\n",
              "</div>"
            ],
            "text/plain": [
              "                                                text airline_sentiment\n",
              "0                @VirginAmerica What @dhepburn said.           neutral\n",
              "1  @VirginAmerica plus you've added commercials t...          positive\n",
              "2  @VirginAmerica I didn't today... Must mean I n...           neutral"
            ]
          },
          "metadata": {
            "tags": []
          },
          "execution_count": 5
        }
      ]
    },
    {
      "cell_type": "code",
      "metadata": {
        "id": "yrLpdivEPKCc",
        "colab_type": "code",
        "colab": {
          "base_uri": "https://localhost:8080/",
          "height": 173
        },
        "outputId": "ce557336-07d8-4f14-8a55-18c5346dee54"
      },
      "source": [
        "#encoding the labels\n",
        "# Transforming non numerical labels into numerical labels\n",
        "from sklearn import preprocessing\n",
        "encoder = preprocessing.LabelEncoder()\n",
        "\n",
        "# encoding train labels \n",
        "encoder.fit(dataset['airline_sentiment'])\n",
        "dataset['labels'] = encoder.transform(dataset['airline_sentiment'])\n",
        "dataset = dataset[['text','labels']]\n",
        "dataset.head(4)"
      ],
      "execution_count": 6,
      "outputs": [
        {
          "output_type": "execute_result",
          "data": {
            "text/html": [
              "<div>\n",
              "<style scoped>\n",
              "    .dataframe tbody tr th:only-of-type {\n",
              "        vertical-align: middle;\n",
              "    }\n",
              "\n",
              "    .dataframe tbody tr th {\n",
              "        vertical-align: top;\n",
              "    }\n",
              "\n",
              "    .dataframe thead th {\n",
              "        text-align: right;\n",
              "    }\n",
              "</style>\n",
              "<table border=\"1\" class=\"dataframe\">\n",
              "  <thead>\n",
              "    <tr style=\"text-align: right;\">\n",
              "      <th></th>\n",
              "      <th>text</th>\n",
              "      <th>labels</th>\n",
              "    </tr>\n",
              "  </thead>\n",
              "  <tbody>\n",
              "    <tr>\n",
              "      <th>0</th>\n",
              "      <td>@VirginAmerica What @dhepburn said.</td>\n",
              "      <td>1</td>\n",
              "    </tr>\n",
              "    <tr>\n",
              "      <th>1</th>\n",
              "      <td>@VirginAmerica plus you've added commercials t...</td>\n",
              "      <td>2</td>\n",
              "    </tr>\n",
              "    <tr>\n",
              "      <th>2</th>\n",
              "      <td>@VirginAmerica I didn't today... Must mean I n...</td>\n",
              "      <td>1</td>\n",
              "    </tr>\n",
              "    <tr>\n",
              "      <th>3</th>\n",
              "      <td>@VirginAmerica it's really aggressive to blast...</td>\n",
              "      <td>0</td>\n",
              "    </tr>\n",
              "  </tbody>\n",
              "</table>\n",
              "</div>"
            ],
            "text/plain": [
              "                                                text  labels\n",
              "0                @VirginAmerica What @dhepburn said.       1\n",
              "1  @VirginAmerica plus you've added commercials t...       2\n",
              "2  @VirginAmerica I didn't today... Must mean I n...       1\n",
              "3  @VirginAmerica it's really aggressive to blast...       0"
            ]
          },
          "metadata": {
            "tags": []
          },
          "execution_count": 6
        }
      ]
    },
    {
      "cell_type": "code",
      "metadata": {
        "id": "zlJcNVhfRZ75",
        "colab_type": "code",
        "colab": {
          "base_uri": "https://localhost:8080/",
          "height": 173
        },
        "outputId": "bcbf810d-39a6-4d13-9734-2befe7dcec3e"
      },
      "source": [
        "#clean all non-ascii characters present\n",
        "def clean_ascii(text):\n",
        "    # function to remove non-ASCII chars from data\n",
        "    return ''.join(i for i in text if ord(i) < 128)\n",
        "\n",
        "dataset['text'] = dataset['text'].apply(clean_ascii)\n",
        "dataset.head(4)"
      ],
      "execution_count": 7,
      "outputs": [
        {
          "output_type": "execute_result",
          "data": {
            "text/html": [
              "<div>\n",
              "<style scoped>\n",
              "    .dataframe tbody tr th:only-of-type {\n",
              "        vertical-align: middle;\n",
              "    }\n",
              "\n",
              "    .dataframe tbody tr th {\n",
              "        vertical-align: top;\n",
              "    }\n",
              "\n",
              "    .dataframe thead th {\n",
              "        text-align: right;\n",
              "    }\n",
              "</style>\n",
              "<table border=\"1\" class=\"dataframe\">\n",
              "  <thead>\n",
              "    <tr style=\"text-align: right;\">\n",
              "      <th></th>\n",
              "      <th>text</th>\n",
              "      <th>labels</th>\n",
              "    </tr>\n",
              "  </thead>\n",
              "  <tbody>\n",
              "    <tr>\n",
              "      <th>0</th>\n",
              "      <td>@VirginAmerica What @dhepburn said.</td>\n",
              "      <td>1</td>\n",
              "    </tr>\n",
              "    <tr>\n",
              "      <th>1</th>\n",
              "      <td>@VirginAmerica plus you've added commercials t...</td>\n",
              "      <td>2</td>\n",
              "    </tr>\n",
              "    <tr>\n",
              "      <th>2</th>\n",
              "      <td>@VirginAmerica I didn't today... Must mean I n...</td>\n",
              "      <td>1</td>\n",
              "    </tr>\n",
              "    <tr>\n",
              "      <th>3</th>\n",
              "      <td>@VirginAmerica it's really aggressive to blast...</td>\n",
              "      <td>0</td>\n",
              "    </tr>\n",
              "  </tbody>\n",
              "</table>\n",
              "</div>"
            ],
            "text/plain": [
              "                                                text  labels\n",
              "0                @VirginAmerica What @dhepburn said.       1\n",
              "1  @VirginAmerica plus you've added commercials t...       2\n",
              "2  @VirginAmerica I didn't today... Must mean I n...       1\n",
              "3  @VirginAmerica it's really aggressive to blast...       0"
            ]
          },
          "metadata": {
            "tags": []
          },
          "execution_count": 7
        }
      ]
    },
    {
      "cell_type": "code",
      "metadata": {
        "id": "I52zbpma8VzS",
        "colab_type": "code",
        "colab": {}
      },
      "source": [
        "df_1 = data[data['label_encoded']==1]\n",
        "df_2 = data[data['label_encoded']==2]"
      ],
      "execution_count": null,
      "outputs": []
    },
    {
      "cell_type": "code",
      "metadata": {
        "id": "h9Q48s598yae",
        "colab_type": "code",
        "colab": {}
      },
      "source": [
        "df_1.head(2)"
      ],
      "execution_count": null,
      "outputs": []
    },
    {
      "cell_type": "code",
      "metadata": {
        "id": "dPRZAHoj813o",
        "colab_type": "code",
        "colab": {}
      },
      "source": [
        "df_2.head(2)"
      ],
      "execution_count": null,
      "outputs": []
    },
    {
      "cell_type": "code",
      "metadata": {
        "id": "n7_G8cZn9Xsy",
        "colab_type": "code",
        "colab": {}
      },
      "source": [
        "new_data = pd.concat([data,df_1,df_2])\n",
        "new_data['label_encoded'].value_counts()"
      ],
      "execution_count": null,
      "outputs": []
    },
    {
      "cell_type": "code",
      "metadata": {
        "id": "RYk_EFCS9oi5",
        "colab_type": "code",
        "colab": {}
      },
      "source": [
        "from sklearn.utils import shuffle\n",
        "\n",
        "new_data = shuffle(new_data)"
      ],
      "execution_count": null,
      "outputs": []
    },
    {
      "cell_type": "code",
      "metadata": {
        "id": "dRaOs7X5UMlm",
        "colab_type": "code",
        "colab": {
          "base_uri": "https://localhost:8080/",
          "height": 85
        },
        "outputId": "098a6402-1435-4591-c977-b23b98c3b5a3"
      },
      "source": [
        "dataset['labels'].value_counts()"
      ],
      "execution_count": 8,
      "outputs": [
        {
          "output_type": "execute_result",
          "data": {
            "text/plain": [
              "0    9178\n",
              "1    3099\n",
              "2    2363\n",
              "Name: labels, dtype: int64"
            ]
          },
          "metadata": {
            "tags": []
          },
          "execution_count": 8
        }
      ]
    },
    {
      "cell_type": "code",
      "metadata": {
        "id": "6YhxMb8CVzbw",
        "colab_type": "code",
        "colab": {}
      },
      "source": [
        "from sklearn.model_selection import train_test_split\n",
        "from collections import Counter"
      ],
      "execution_count": 9,
      "outputs": []
    },
    {
      "cell_type": "code",
      "metadata": {
        "id": "pJJrhsjWT4-9",
        "colab_type": "code",
        "colab": {}
      },
      "source": [
        "# split data into training and validation set\n",
        "#df_trn, df_val = train_test_split(data, stratify = data['label_encoded'], test_size = 0.4, random_state = 12)\n",
        "#df_trn, df_val = train_test_split(data, stratify = data['label_encoded'], test_size = 0.2, random_state = 42)\n",
        "df_train, df_test = train_test_split(dataset, stratify = dataset['labels'], test_size = 0.3, random_state = 42)\n",
        "df_train, df_val = train_test_split(df_train, stratify = df_train['labels'], test_size = 0.2, random_state = 42)"
      ],
      "execution_count": 27,
      "outputs": []
    },
    {
      "cell_type": "code",
      "metadata": {
        "id": "hYtEO_NWunp3",
        "colab_type": "code",
        "colab": {
          "base_uri": "https://localhost:8080/",
          "height": 34
        },
        "outputId": "a75e1847-7a43-4b6c-ce80-cfb2b6ac785a"
      },
      "source": [
        "df_train.shape , df_val.shape , df_test.shape"
      ],
      "execution_count": 28,
      "outputs": [
        {
          "output_type": "execute_result",
          "data": {
            "text/plain": [
              "((8198, 2), (2050, 2), (4392, 2))"
            ]
          },
          "metadata": {
            "tags": []
          },
          "execution_count": 28
        }
      ]
    },
    {
      "cell_type": "code",
      "metadata": {
        "id": "YS0MBteXV9af",
        "colab_type": "code",
        "colab": {
          "base_uri": "https://localhost:8080/",
          "height": 142
        },
        "outputId": "0d5fc6f8-fc38-479f-f7d3-332016d358e4"
      },
      "source": [
        "df_train.head(3)"
      ],
      "execution_count": 11,
      "outputs": [
        {
          "output_type": "execute_result",
          "data": {
            "text/html": [
              "<div>\n",
              "<style scoped>\n",
              "    .dataframe tbody tr th:only-of-type {\n",
              "        vertical-align: middle;\n",
              "    }\n",
              "\n",
              "    .dataframe tbody tr th {\n",
              "        vertical-align: top;\n",
              "    }\n",
              "\n",
              "    .dataframe thead th {\n",
              "        text-align: right;\n",
              "    }\n",
              "</style>\n",
              "<table border=\"1\" class=\"dataframe\">\n",
              "  <thead>\n",
              "    <tr style=\"text-align: right;\">\n",
              "      <th></th>\n",
              "      <th>text</th>\n",
              "      <th>labels</th>\n",
              "    </tr>\n",
              "  </thead>\n",
              "  <tbody>\n",
              "    <tr>\n",
              "      <th>5417</th>\n",
              "      <td>@SouthwestAir Suggestions: tell customers appr...</td>\n",
              "      <td>0</td>\n",
              "    </tr>\n",
              "    <tr>\n",
              "      <th>14211</th>\n",
              "      <td>@AmericanAir - very upset with my hometown air...</td>\n",
              "      <td>0</td>\n",
              "    </tr>\n",
              "    <tr>\n",
              "      <th>3844</th>\n",
              "      <td>@united There are Exit-Row window shades in ap...</td>\n",
              "      <td>0</td>\n",
              "    </tr>\n",
              "  </tbody>\n",
              "</table>\n",
              "</div>"
            ],
            "text/plain": [
              "                                                    text  labels\n",
              "5417   @SouthwestAir Suggestions: tell customers appr...       0\n",
              "14211  @AmericanAir - very upset with my hometown air...       0\n",
              "3844   @united There are Exit-Row window shades in ap...       0"
            ]
          },
          "metadata": {
            "tags": []
          },
          "execution_count": 11
        }
      ]
    },
    {
      "cell_type": "code",
      "metadata": {
        "id": "SZYv7C6MXUrA",
        "colab_type": "code",
        "colab": {
          "base_uri": "https://localhost:8080/",
          "height": 85
        },
        "outputId": "12b2ce78-4a1c-4e10-c75b-5c820601ce7b"
      },
      "source": [
        "df_train['labels'].value_counts()"
      ],
      "execution_count": 12,
      "outputs": [
        {
          "output_type": "execute_result",
          "data": {
            "text/plain": [
              "0    6425\n",
              "1    2169\n",
              "2    1654\n",
              "Name: labels, dtype: int64"
            ]
          },
          "metadata": {
            "tags": []
          },
          "execution_count": 12
        }
      ]
    },
    {
      "cell_type": "code",
      "metadata": {
        "id": "2L1YpWmFV9nl",
        "colab_type": "code",
        "colab": {
          "base_uri": "https://localhost:8080/",
          "height": 142
        },
        "outputId": "5e0a4cf4-07f2-4c05-88de-ae3619afd1fb"
      },
      "source": [
        "df_val.head(3)"
      ],
      "execution_count": 13,
      "outputs": [
        {
          "output_type": "execute_result",
          "data": {
            "text/html": [
              "<div>\n",
              "<style scoped>\n",
              "    .dataframe tbody tr th:only-of-type {\n",
              "        vertical-align: middle;\n",
              "    }\n",
              "\n",
              "    .dataframe tbody tr th {\n",
              "        vertical-align: top;\n",
              "    }\n",
              "\n",
              "    .dataframe thead th {\n",
              "        text-align: right;\n",
              "    }\n",
              "</style>\n",
              "<table border=\"1\" class=\"dataframe\">\n",
              "  <thead>\n",
              "    <tr style=\"text-align: right;\">\n",
              "      <th></th>\n",
              "      <th>text</th>\n",
              "      <th>labels</th>\n",
              "    </tr>\n",
              "  </thead>\n",
              "  <tbody>\n",
              "    <tr>\n",
              "      <th>12814</th>\n",
              "      <td>@AmericanAir I'll try to have a great week onc...</td>\n",
              "      <td>0</td>\n",
              "    </tr>\n",
              "    <tr>\n",
              "      <th>1490</th>\n",
              "      <td>@united You suck. Flight delayed equipment pro...</td>\n",
              "      <td>0</td>\n",
              "    </tr>\n",
              "    <tr>\n",
              "      <th>12460</th>\n",
              "      <td>@AmericanAir is it right to provide faulty sea...</td>\n",
              "      <td>0</td>\n",
              "    </tr>\n",
              "  </tbody>\n",
              "</table>\n",
              "</div>"
            ],
            "text/plain": [
              "                                                    text  labels\n",
              "12814  @AmericanAir I'll try to have a great week onc...       0\n",
              "1490   @united You suck. Flight delayed equipment pro...       0\n",
              "12460  @AmericanAir is it right to provide faulty sea...       0"
            ]
          },
          "metadata": {
            "tags": []
          },
          "execution_count": 13
        }
      ]
    },
    {
      "cell_type": "code",
      "metadata": {
        "id": "n-odWcqIWiK1",
        "colab_type": "code",
        "colab": {}
      },
      "source": [
        "df_train.to_csv('train_ulm.csv')"
      ],
      "execution_count": 14,
      "outputs": []
    },
    {
      "cell_type": "markdown",
      "metadata": {
        "id": "R1Ixegb9UH66",
        "colab_type": "text"
      },
      "source": [
        "**Preparing data for the Language Model**"
      ]
    },
    {
      "cell_type": "markdown",
      "metadata": {
        "id": "e8FEEmYP43xc",
        "colab_type": "text"
      },
      "source": [
        "Training the language model specific to Yelp reviews"
      ]
    },
    {
      "cell_type": "code",
      "metadata": {
        "id": "pPVC3fuYT5EF",
        "colab_type": "code",
        "colab": {
          "base_uri": "https://localhost:8080/",
          "height": 17
        },
        "outputId": "97b5d285-d50c-4590-e65b-1af84eb40c17"
      },
      "source": [
        "# Language model data , a min_freq = 1 denotes that words that occur only once are given the <unk> tag during tokenization\n",
        "path = './'\n",
        "data_lm = TextLMDataBunch.from_df(path,df_train,df_val,df_test, text_cols='text',label_cols='labels')"
      ],
      "execution_count": 50,
      "outputs": [
        {
          "output_type": "display_data",
          "data": {
            "text/html": [
              ""
            ],
            "text/plain": [
              "<IPython.core.display.HTML object>"
            ]
          },
          "metadata": {
            "tags": []
          }
        },
        {
          "output_type": "display_data",
          "data": {
            "text/html": [
              ""
            ],
            "text/plain": [
              "<IPython.core.display.HTML object>"
            ]
          },
          "metadata": {
            "tags": []
          }
        },
        {
          "output_type": "display_data",
          "data": {
            "text/html": [
              ""
            ],
            "text/plain": [
              "<IPython.core.display.HTML object>"
            ]
          },
          "metadata": {
            "tags": []
          }
        }
      ]
    },
    {
      "cell_type": "code",
      "metadata": {
        "id": "QYR9wddaT5Hh",
        "colab_type": "code",
        "colab": {}
      },
      "source": [
        "# Save the language and classifier model data for re-use\n",
        "data_lm.save()"
      ],
      "execution_count": 51,
      "outputs": []
    },
    {
      "cell_type": "code",
      "metadata": {
        "id": "EO1zfX7HT5Bx",
        "colab_type": "code",
        "colab": {
          "base_uri": "https://localhost:8080/",
          "height": 374
        },
        "outputId": "4dcbc391-0192-4ff2-a275-437d870befac"
      },
      "source": [
        "data_lm.show_batch()"
      ],
      "execution_count": 52,
      "outputs": [
        {
          "output_type": "display_data",
          "data": {
            "text/html": [
              "<table border=\"1\" class=\"dataframe\">\n",
              "  <thead>\n",
              "    <tr style=\"text-align: right;\">\n",
              "      <th>idx</th>\n",
              "      <th>text</th>\n",
              "    </tr>\n",
              "  </thead>\n",
              "  <tbody>\n",
              "    <tr>\n",
              "      <td>0</td>\n",
              "      <td>much for xxunk in my kids tonight . xxmaj delta xxunk miles / status , right ? http : / / t.co / xxup xxunk xxbos @usairways xxmaj joined xxmaj silver xxmaj preferred because i heard customer service was so great , pity i was xxunk . xxbos @usairways thank you xxbos @united crashed trying to check in . xxbos @united better train your support staff with appropriate xxunk ,</td>\n",
              "    </tr>\n",
              "    <tr>\n",
              "      <td>1</td>\n",
              "      <td>. xxmaj wo n't change our flight . xxmaj can we go now ? xxbos @united xxunk your delay is due to your own making . xxmaj we have now been back to the gate multiple times . xxmaj maybe take accountability xxbos @southwestair give me tickets to atlanta ! i would do anything ! xxmaj anything xxbos @usairways my phone has been on hold since midght xxunk 7 hrs</td>\n",
              "    </tr>\n",
              "    <tr>\n",
              "      <td>2</td>\n",
              "      <td>cancelled xxmaj flightlations for my flight out of xxup dfw on xxmaj tuesday ? xxbos @virginamerica has getaway deals through xxmaj may , from $ 59 one - way . xxmaj lots of cool cities http : / / t.co / xxunk # cheapflights # farecompare xxbos @southwestair xxmaj maybe it is just a machine ... xxbos @usairways sitting here in xxup phl with all of your rude xxmaj customer</td>\n",
              "    </tr>\n",
              "    <tr>\n",
              "      <td>3</td>\n",
              "      <td>over charged by 100 's of $ $ on my plane ticket xxup why ? # united i should n't have to check my xxup cc everytime xxbos @americanair xxup finally called me back ... xxup but xxup xxunk xxup spoken xxup to xxup me . xxmaj like the worst xxunk call xxup ever ! ! xxbos @jetblue we want room and food xxunk . xxmaj agents are refusing to</td>\n",
              "    </tr>\n",
              "    <tr>\n",
              "      <td>4</td>\n",
              "      <td>was promised , it never arrived . xxmaj help ? ! xxbos @usairways is the worst ! ! xxmaj still have n't left .. xxmaj everyone missing connections . xxbos @americanair basically u right now http : / / t.co / xxunk xxbos @usairways wanted to connect to discuss xxunk opportunities with http : / / t.co / xxunk , silicon xxunk only 10 day film festival xxbos @united xxmaj</td>\n",
              "    </tr>\n",
              "  </tbody>\n",
              "</table>"
            ],
            "text/plain": [
              "<IPython.core.display.HTML object>"
            ]
          },
          "metadata": {
            "tags": []
          }
        }
      ]
    },
    {
      "cell_type": "code",
      "metadata": {
        "id": "V9EfTDIqT49S",
        "colab_type": "code",
        "colab": {}
      },
      "source": [
        ""
      ],
      "execution_count": null,
      "outputs": []
    },
    {
      "cell_type": "markdown",
      "metadata": {
        "id": "_xJu3RsdX032",
        "colab_type": "text"
      },
      "source": [
        "**Defining the learner object for language model fine - tuning**"
      ]
    },
    {
      "cell_type": "code",
      "metadata": {
        "id": "3LHrFw-0X6r1",
        "colab_type": "code",
        "colab": {}
      },
      "source": [
        "learn = language_model_learner(data_lm, AWD_LSTM, drop_mult=0.3)"
      ],
      "execution_count": 58,
      "outputs": []
    },
    {
      "cell_type": "code",
      "metadata": {
        "id": "kMX5F3EuX6pQ",
        "colab_type": "code",
        "colab": {
          "base_uri": "https://localhost:8080/",
          "height": 459
        },
        "outputId": "a1415c30-49c7-443b-f727-b0d8eae7a6cb"
      },
      "source": [
        "list(learn.model.children())"
      ],
      "execution_count": 59,
      "outputs": [
        {
          "output_type": "execute_result",
          "data": {
            "text/plain": [
              "[AWD_LSTM(\n",
              "   (encoder): Embedding(4664, 400, padding_idx=1)\n",
              "   (encoder_dp): EmbeddingDropout(\n",
              "     (emb): Embedding(4664, 400, padding_idx=1)\n",
              "   )\n",
              "   (rnns): ModuleList(\n",
              "     (0): WeightDropout(\n",
              "       (module): LSTM(400, 1152, batch_first=True)\n",
              "     )\n",
              "     (1): WeightDropout(\n",
              "       (module): LSTM(1152, 1152, batch_first=True)\n",
              "     )\n",
              "     (2): WeightDropout(\n",
              "       (module): LSTM(1152, 400, batch_first=True)\n",
              "     )\n",
              "   )\n",
              "   (input_dp): RNNDropout()\n",
              "   (hidden_dps): ModuleList(\n",
              "     (0): RNNDropout()\n",
              "     (1): RNNDropout()\n",
              "     (2): RNNDropout()\n",
              "   )\n",
              " ), LinearDecoder(\n",
              "   (decoder): Linear(in_features=400, out_features=4664, bias=True)\n",
              "   (output_dp): RNNDropout()\n",
              " )]"
            ]
          },
          "metadata": {
            "tags": []
          },
          "execution_count": 59
        }
      ]
    },
    {
      "cell_type": "code",
      "metadata": {
        "id": "PZZ2SxRxX6mz",
        "colab_type": "code",
        "colab": {}
      },
      "source": [
        ""
      ],
      "execution_count": null,
      "outputs": []
    },
    {
      "cell_type": "markdown",
      "metadata": {
        "id": "uu0AMZfCZWgM",
        "colab_type": "text"
      },
      "source": [
        "**Find the optimal learning rate**"
      ]
    },
    {
      "cell_type": "code",
      "metadata": {
        "id": "jZrx56cpX6kG",
        "colab_type": "code",
        "colab": {
          "base_uri": "https://localhost:8080/",
          "height": 436
        },
        "outputId": "897b096c-1a2f-4e66-93c6-943902836627"
      },
      "source": [
        "learn.lr_find() #start_lr=1e-8, end_lr=1e2)\n",
        "learn.recorder.plot()"
      ],
      "execution_count": 60,
      "outputs": [
        {
          "output_type": "display_data",
          "data": {
            "text/html": [
              "\n",
              "    <div>\n",
              "        <style>\n",
              "            /* Turns off some styling */\n",
              "            progress {\n",
              "                /* gets rid of default border in Firefox and Opera. */\n",
              "                border: none;\n",
              "                /* Needs to be in here for Safari polyfill so background images work as expected. */\n",
              "                background-size: auto;\n",
              "            }\n",
              "            .progress-bar-interrupted, .progress-bar-interrupted::-webkit-progress-bar {\n",
              "                background: #F44336;\n",
              "            }\n",
              "        </style>\n",
              "      <progress value='2' class='' max='3' style='width:300px; height:20px; vertical-align: middle;'></progress>\n",
              "      66.67% [2/3 00:29<00:14]\n",
              "    </div>\n",
              "    \n",
              "<table border=\"1\" class=\"dataframe\">\n",
              "  <thead>\n",
              "    <tr style=\"text-align: left;\">\n",
              "      <th>epoch</th>\n",
              "      <th>train_loss</th>\n",
              "      <th>valid_loss</th>\n",
              "      <th>accuracy</th>\n",
              "      <th>time</th>\n",
              "    </tr>\n",
              "  </thead>\n",
              "  <tbody>\n",
              "    <tr>\n",
              "      <td>0</td>\n",
              "      <td>6.497862</td>\n",
              "      <td>#na#</td>\n",
              "      <td>00:14</td>\n",
              "    </tr>\n",
              "    <tr>\n",
              "      <td>1</td>\n",
              "      <td>5.900855</td>\n",
              "      <td>#na#</td>\n",
              "      <td>00:14</td>\n",
              "    </tr>\n",
              "  </tbody>\n",
              "</table><p>\n",
              "\n",
              "    <div>\n",
              "        <style>\n",
              "            /* Turns off some styling */\n",
              "            progress {\n",
              "                /* gets rid of default border in Firefox and Opera. */\n",
              "                border: none;\n",
              "                /* Needs to be in here for Safari polyfill so background images work as expected. */\n",
              "                background-size: auto;\n",
              "            }\n",
              "            .progress-bar-interrupted, .progress-bar-interrupted::-webkit-progress-bar {\n",
              "                background: #F44336;\n",
              "            }\n",
              "        </style>\n",
              "      <progress value='9' class='' max='45' style='width:300px; height:20px; vertical-align: middle;'></progress>\n",
              "      20.00% [9/45 00:02<00:11 9.4917]\n",
              "    </div>\n",
              "    "
            ],
            "text/plain": [
              "<IPython.core.display.HTML object>"
            ]
          },
          "metadata": {
            "tags": []
          }
        },
        {
          "output_type": "stream",
          "text": [
            "LR Finder is complete, type {learner_name}.recorder.plot() to see the graph.\n"
          ],
          "name": "stdout"
        },
        {
          "output_type": "display_data",
          "data": {
            "image/png": "[encoded data removed]",
            "text/plain": [
              "<Figure size 432x288 with 1 Axes>"
            ]
          },
          "metadata": {
            "tags": [],
            "needs_background": "light"
          }
        }
      ]
    },
    {
      "cell_type": "markdown",
      "metadata": {
        "id": "rulHA2Ig6TXE",
        "colab_type": "text"
      },
      "source": [
        "We pick something closer to the point where the loss is the lowest."
      ]
    },
    {
      "cell_type": "code",
      "metadata": {
        "id": "b8gwTAqDZ6i-",
        "colab_type": "code",
        "colab": {}
      },
      "source": [
        ""
      ],
      "execution_count": null,
      "outputs": []
    },
    {
      "cell_type": "markdown",
      "metadata": {
        "id": "l9rWm-YdaARJ",
        "colab_type": "text"
      },
      "source": [
        "**Run the language model class learner**"
      ]
    },
    {
      "cell_type": "code",
      "metadata": {
        "id": "TUScoGxQZ6gD",
        "colab_type": "code",
        "colab": {
          "base_uri": "https://localhost:8080/",
          "height": 80
        },
        "outputId": "628b8773-2c16-4716-82e4-326586bf7a15"
      },
      "source": [
        "learn = language_model_learner(data_lm, AWD_LSTM, drop_mult=0.3)\n",
        "learn.fit_one_cycle(cyc_len=1, max_lr=1e-2, moms=(0.8, 0.7))"
      ],
      "execution_count": 61,
      "outputs": [
        {
          "output_type": "display_data",
          "data": {
            "text/html": [
              "<table border=\"1\" class=\"dataframe\">\n",
              "  <thead>\n",
              "    <tr style=\"text-align: left;\">\n",
              "      <th>epoch</th>\n",
              "      <th>train_loss</th>\n",
              "      <th>valid_loss</th>\n",
              "      <th>accuracy</th>\n",
              "      <th>time</th>\n",
              "    </tr>\n",
              "  </thead>\n",
              "  <tbody>\n",
              "    <tr>\n",
              "      <td>0</td>\n",
              "      <td>4.942539</td>\n",
              "      <td>4.220109</td>\n",
              "      <td>0.226135</td>\n",
              "      <td>00:16</td>\n",
              "    </tr>\n",
              "  </tbody>\n",
              "</table>"
            ],
            "text/plain": [
              "<IPython.core.display.HTML object>"
            ]
          },
          "metadata": {
            "tags": []
          }
        }
      ]
    },
    {
      "cell_type": "code",
      "metadata": {
        "id": "BvEUG_gEZ6dP",
        "colab_type": "code",
        "colab": {}
      },
      "source": [
        ""
      ],
      "execution_count": null,
      "outputs": []
    },
    {
      "cell_type": "markdown",
      "metadata": {
        "id": "qw5_SKVAfdVM",
        "colab_type": "text"
      },
      "source": [
        "**Unfreeze the entire model**"
      ]
    },
    {
      "cell_type": "code",
      "metadata": {
        "id": "5VlLYoL3Z6aU",
        "colab_type": "code",
        "colab": {
          "base_uri": "https://localhost:8080/",
          "height": 359
        },
        "outputId": "3280120f-37f1-40f0-80b6-878d71820d76"
      },
      "source": [
        "learn.unfreeze()\n",
        "learn.fit_one_cycle(10, max_lr=1e-2, moms=(0.8, 0.7))"
      ],
      "execution_count": 62,
      "outputs": [
        {
          "output_type": "display_data",
          "data": {
            "text/html": [
              "<table border=\"1\" class=\"dataframe\">\n",
              "  <thead>\n",
              "    <tr style=\"text-align: left;\">\n",
              "      <th>epoch</th>\n",
              "      <th>train_loss</th>\n",
              "      <th>valid_loss</th>\n",
              "      <th>accuracy</th>\n",
              "      <th>time</th>\n",
              "    </tr>\n",
              "  </thead>\n",
              "  <tbody>\n",
              "    <tr>\n",
              "      <td>0</td>\n",
              "      <td>3.960122</td>\n",
              "      <td>3.857833</td>\n",
              "      <td>0.272061</td>\n",
              "      <td>00:21</td>\n",
              "    </tr>\n",
              "    <tr>\n",
              "      <td>1</td>\n",
              "      <td>3.771551</td>\n",
              "      <td>3.729600</td>\n",
              "      <td>0.281827</td>\n",
              "      <td>00:20</td>\n",
              "    </tr>\n",
              "    <tr>\n",
              "      <td>2</td>\n",
              "      <td>3.554533</td>\n",
              "      <td>3.758404</td>\n",
              "      <td>0.278999</td>\n",
              "      <td>00:20</td>\n",
              "    </tr>\n",
              "    <tr>\n",
              "      <td>3</td>\n",
              "      <td>3.253327</td>\n",
              "      <td>3.815828</td>\n",
              "      <td>0.279669</td>\n",
              "      <td>00:20</td>\n",
              "    </tr>\n",
              "    <tr>\n",
              "      <td>4</td>\n",
              "      <td>2.888376</td>\n",
              "      <td>3.990829</td>\n",
              "      <td>0.263895</td>\n",
              "      <td>00:20</td>\n",
              "    </tr>\n",
              "    <tr>\n",
              "      <td>5</td>\n",
              "      <td>2.447361</td>\n",
              "      <td>4.120611</td>\n",
              "      <td>0.266760</td>\n",
              "      <td>00:20</td>\n",
              "    </tr>\n",
              "    <tr>\n",
              "      <td>6</td>\n",
              "      <td>1.905068</td>\n",
              "      <td>4.347198</td>\n",
              "      <td>0.264658</td>\n",
              "      <td>00:20</td>\n",
              "    </tr>\n",
              "    <tr>\n",
              "      <td>7</td>\n",
              "      <td>1.414909</td>\n",
              "      <td>4.503414</td>\n",
              "      <td>0.262816</td>\n",
              "      <td>00:20</td>\n",
              "    </tr>\n",
              "    <tr>\n",
              "      <td>8</td>\n",
              "      <td>1.095676</td>\n",
              "      <td>4.563406</td>\n",
              "      <td>0.262835</td>\n",
              "      <td>00:20</td>\n",
              "    </tr>\n",
              "    <tr>\n",
              "      <td>9</td>\n",
              "      <td>0.913355</td>\n",
              "      <td>4.580797</td>\n",
              "      <td>0.262407</td>\n",
              "      <td>00:20</td>\n",
              "    </tr>\n",
              "  </tbody>\n",
              "</table>"
            ],
            "text/plain": [
              "<IPython.core.display.HTML object>"
            ]
          },
          "metadata": {
            "tags": []
          }
        }
      ]
    },
    {
      "cell_type": "code",
      "metadata": {
        "id": "JxxQcqi5Z6Xc",
        "colab_type": "code",
        "colab": {}
      },
      "source": [
        ""
      ],
      "execution_count": null,
      "outputs": []
    },
    {
      "cell_type": "code",
      "metadata": {
        "id": "W3TOcD20Z6Uq",
        "colab_type": "code",
        "colab": {}
      },
      "source": [
        "# Save the fine-tuned encoder\n",
        "learn.save_encoder('ft_enc')"
      ],
      "execution_count": 63,
      "outputs": []
    },
    {
      "cell_type": "code",
      "metadata": {
        "id": "tgZQLoRxZ6R-",
        "colab_type": "code",
        "colab": {}
      },
      "source": [
        ""
      ],
      "execution_count": null,
      "outputs": []
    },
    {
      "cell_type": "markdown",
      "metadata": {
        "id": "joWe7lc5gRXy",
        "colab_type": "text"
      },
      "source": [
        "**Classification Dataloader**"
      ]
    },
    {
      "cell_type": "code",
      "metadata": {
        "id": "TJxrEam6Z6PU",
        "colab_type": "code",
        "colab": {
          "base_uri": "https://localhost:8080/",
          "height": 17
        },
        "outputId": "df74b951-4edb-44b0-d535-6e59ae971c25"
      },
      "source": [
        "# Classifier model data\n",
        "data_class = TextClasDataBunch.from_df(path, df_train, df_val, df_test, text_cols='text', label_cols='labels',vocab=data_lm.vocab) #, min_freq=1, bs=32)\n",
        "data_class.save()"
      ],
      "execution_count": 64,
      "outputs": [
        {
          "output_type": "display_data",
          "data": {
            "text/html": [
              ""
            ],
            "text/plain": [
              "<IPython.core.display.HTML object>"
            ]
          },
          "metadata": {
            "tags": []
          }
        },
        {
          "output_type": "display_data",
          "data": {
            "text/html": [
              ""
            ],
            "text/plain": [
              "<IPython.core.display.HTML object>"
            ]
          },
          "metadata": {
            "tags": []
          }
        },
        {
          "output_type": "display_data",
          "data": {
            "text/html": [
              ""
            ],
            "text/plain": [
              "<IPython.core.display.HTML object>"
            ]
          },
          "metadata": {
            "tags": []
          }
        }
      ]
    },
    {
      "cell_type": "code",
      "metadata": {
        "id": "iMsPMFpS_Tto",
        "colab_type": "code",
        "colab": {
          "base_uri": "https://localhost:8080/",
          "height": 289
        },
        "outputId": "1bd5128b-dc59-40ec-ac5f-bc5adf76b958"
      },
      "source": [
        "data_class.show_batch()"
      ],
      "execution_count": 65,
      "outputs": [
        {
          "output_type": "display_data",
          "data": {
            "text/html": [
              "<table border=\"1\" class=\"dataframe\">\n",
              "  <thead>\n",
              "    <tr style=\"text-align: right;\">\n",
              "      <th>text</th>\n",
              "      <th>target</th>\n",
              "    </tr>\n",
              "  </thead>\n",
              "  <tbody>\n",
              "    <tr>\n",
              "      <td>xxbos @united xxmaj hi have a question re future xxmaj flight xxmaj booking xxmaj problems . xxup dub - xxup jac 29 / 9 xxup jac - xxup lax 8 / 10 xxup lax - xxup dub 13 / 10 . i 'm * xxup xxunk xxmaj what is checked bag allowance for xxup jac - xxup lax ?</td>\n",
              "      <td>1</td>\n",
              "    </tr>\n",
              "    <tr>\n",
              "      <td>xxbos @united xxup where xxup is xxup my xxup fucking xxup bag ? ! ? ! xxmaj where the fuck is my fucking bag ? ? ? xxup tell xxup me xxup now xxup or xxup give xxup me a xxup number xxup to xxup call a xxup human . xxup xxunk m</td>\n",
              "      <td>0</td>\n",
              "    </tr>\n",
              "    <tr>\n",
              "      <td>xxbos @americanair xxmaj aww xxmaj thanks xxup aa .. xxup dfw was on xxup xxunk up here this xxup am .. so i understand .. xxmaj btw xxup xxunk is my xxmaj airline when i m able to xxunk .. xxmaj love you guys . : )</td>\n",
              "      <td>2</td>\n",
              "    </tr>\n",
              "    <tr>\n",
              "      <td>xxbos @southwestair xxmaj loved one 's flight xxup atl to xxup ind xxmaj cancelled xxmaj flightled due to \" ice in xxmaj indy \" . xxmaj sitting here in xxmaj indy , it is xxunk dry . xxmaj tomorrow 4 - 6 \" of snow .</td>\n",
              "      <td>0</td>\n",
              "    </tr>\n",
              "    <tr>\n",
              "      <td>xxbos @americanair xxmaj took a flight yesterday xxunk xxup tpa - xxup dfw - xxup aus . xxmaj bag went to xxup iah . xxmaj today bag went to xxup iah - xxup dfw and then back to xxup iah . xxmaj still no bag !</td>\n",
              "      <td>0</td>\n",
              "    </tr>\n",
              "  </tbody>\n",
              "</table>"
            ],
            "text/plain": [
              "<IPython.core.display.HTML object>"
            ]
          },
          "metadata": {
            "tags": []
          }
        }
      ]
    },
    {
      "cell_type": "code",
      "metadata": {
        "id": "FrabWK5MZ6Lk",
        "colab_type": "code",
        "colab": {
          "base_uri": "https://localhost:8080/",
          "height": 1000
        },
        "outputId": "248d10f2-6733-40b1-a691-a955b7c576e6"
      },
      "source": [
        "learn = text_classifier_learner(data_class, AWD_LSTM, drop_mult=0.5)\n",
        "learn.load_encoder('ft_enc')\n",
        "#learn.freeze()"
      ],
      "execution_count": 66,
      "outputs": [
        {
          "output_type": "execute_result",
          "data": {
            "text/plain": [
              "RNNLearner(data=TextClasDataBunch;\n",
              "\n",
              "Train: LabelList (8198 items)\n",
              "x: TextList\n",
              "xxbos @usairways i called more than 25 times to redeem mile points and ca n't get through . xxmaj you advertise the miles but make them very hard to use !,xxbos @united - thanks for the rude customer service and 3 hour delay . xxmaj it really helped me timing xxunk for my afternoon meetings . xxmaj hello @delta !,xxbos @united is really getting horrible . xxmaj so much for xxunk in my kids tonight . xxmaj delta xxunk miles / status , right ? http : / / t.co / xxup xxunk,xxbos @usairways xxmaj joined xxmaj silver xxmaj preferred because i heard customer service was so great , pity i was xxunk .,xxbos @usairways thank you\n",
              "y: CategoryList\n",
              "0,0,0,0,1\n",
              "Path: .;\n",
              "\n",
              "Valid: LabelList (2050 items)\n",
              "x: TextList\n",
              "xxbos @jetblue i would like to communicate directly with a \" xxmaj customer xxmaj experience \" executive . xxmaj does xxmaj xxunk xxmaj xxunk have an email address ?,xxbos @usairways of course weather was a joke xxunk xxunk 5 degrees in xxup phl !,xxbos @jetblue xxunk please give jetblue all the xxunk in the world ! i 'm missing the oscars right now , and it 's awful # xxunk,xxbos @americanair leaving over 20 minutes xxmaj late xxmaj flight . xxmaj no xxunk or communication until we were 15 minutes xxmaj late xxmaj flight . xxmaj that 's called shitty customer svc,xxbos @southwestair that was supposed to say \" boo \" not book . xxunk .\n",
              "y: CategoryList\n",
              "0,1,2,0,1\n",
              "Path: .;\n",
              "\n",
              "Test: LabelList (4392 items)\n",
              "x: TextList\n",
              "xxbos @americanair i 'll try to have a great week once i receive it,xxbos @united xxmaj you suck . xxmaj flight delayed equipment probs again . xxmaj miss connection by 2 minutes and you wo n't let us on even though it 's at the gate .,xxbos @americanair is it right to provide xxunk seats on flights plus damage a $ xxunk bag and not replace and xxunk the damage off ? xxmaj flights from ...,xxbos @united this is besides the fact that one week ago you delayed me by 18 hours . i am not impressed at all .,xxbos @usairways xxmaj yes , it was xxmaj sunday .\n",
              "y: EmptyLabelList\n",
              ",,,,\n",
              "Path: ., model=SequentialRNN(\n",
              "  (0): MultiBatchEncoder(\n",
              "    (module): AWD_LSTM(\n",
              "      (encoder): Embedding(4664, 400, padding_idx=1)\n",
              "      (encoder_dp): EmbeddingDropout(\n",
              "        (emb): Embedding(4664, 400, padding_idx=1)\n",
              "      )\n",
              "      (rnns): ModuleList(\n",
              "        (0): WeightDropout(\n",
              "          (module): LSTM(400, 1152, batch_first=True)\n",
              "        )\n",
              "        (1): WeightDropout(\n",
              "          (module): LSTM(1152, 1152, batch_first=True)\n",
              "        )\n",
              "        (2): WeightDropout(\n",
              "          (module): LSTM(1152, 400, batch_first=True)\n",
              "        )\n",
              "      )\n",
              "      (input_dp): RNNDropout()\n",
              "      (hidden_dps): ModuleList(\n",
              "        (0): RNNDropout()\n",
              "        (1): RNNDropout()\n",
              "        (2): RNNDropout()\n",
              "      )\n",
              "    )\n",
              "  )\n",
              "  (1): PoolingLinearClassifier(\n",
              "    (layers): Sequential(\n",
              "      (0): BatchNorm1d(1200, eps=1e-05, momentum=0.1, affine=True, track_running_stats=True)\n",
              "      (1): Dropout(p=0.2, inplace=False)\n",
              "      (2): Linear(in_features=1200, out_features=50, bias=True)\n",
              "      (3): ReLU(inplace=True)\n",
              "      (4): BatchNorm1d(50, eps=1e-05, momentum=0.1, affine=True, track_running_stats=True)\n",
              "      (5): Dropout(p=0.1, inplace=False)\n",
              "      (6): Linear(in_features=50, out_features=3, bias=True)\n",
              "    )\n",
              "  )\n",
              "), opt_func=functools.partial(<class 'torch.optim.adam.Adam'>, betas=(0.9, 0.99)), loss_func=FlattenedLoss of CrossEntropyLoss(), metrics=[<function accuracy at 0x7f3b58d02d08>], true_wd=True, bn_wd=True, wd=0.01, train_bn=True, path=PosixPath('.'), model_dir='models', callback_fns=[functools.partial(<class 'fastai.basic_train.Recorder'>, add_time=True, silent=False)], callbacks=[RNNTrainer\n",
              "learn: RNNLearner(data=TextClasDataBunch;\n",
              "\n",
              "Train: LabelList (8198 items)\n",
              "x: TextList\n",
              "xxbos @usairways i called more than 25 times to redeem mile points and ca n't get through . xxmaj you advertise the miles but make them very hard to use !,xxbos @united - thanks for the rude customer service and 3 hour delay . xxmaj it really helped me timing xxunk for my afternoon meetings . xxmaj hello @delta !,xxbos @united is really getting horrible . xxmaj so much for xxunk in my kids tonight . xxmaj delta xxunk miles / status , right ? http : / / t.co / xxup xxunk,xxbos @usairways xxmaj joined xxmaj silver xxmaj preferred because i heard customer service was so great , pity i was xxunk .,xxbos @usairways thank you\n",
              "y: CategoryList\n",
              "0,0,0,0,1\n",
              "Path: .;\n",
              "\n",
              "Valid: LabelList (2050 items)\n",
              "x: TextList\n",
              "xxbos @jetblue i would like to communicate directly with a \" xxmaj customer xxmaj experience \" executive . xxmaj does xxmaj xxunk xxmaj xxunk have an email address ?,xxbos @usairways of course weather was a joke xxunk xxunk 5 degrees in xxup phl !,xxbos @jetblue xxunk please give jetblue all the xxunk in the world ! i 'm missing the oscars right now , and it 's awful # xxunk,xxbos @americanair leaving over 20 minutes xxmaj late xxmaj flight . xxmaj no xxunk or communication until we were 15 minutes xxmaj late xxmaj flight . xxmaj that 's called shitty customer svc,xxbos @southwestair that was supposed to say \" boo \" not book . xxunk .\n",
              "y: CategoryList\n",
              "0,1,2,0,1\n",
              "Path: .;\n",
              "\n",
              "Test: LabelList (4392 items)\n",
              "x: TextList\n",
              "xxbos @americanair i 'll try to have a great week once i receive it,xxbos @united xxmaj you suck . xxmaj flight delayed equipment probs again . xxmaj miss connection by 2 minutes and you wo n't let us on even though it 's at the gate .,xxbos @americanair is it right to provide xxunk seats on flights plus damage a $ xxunk bag and not replace and xxunk the damage off ? xxmaj flights from ...,xxbos @united this is besides the fact that one week ago you delayed me by 18 hours . i am not impressed at all .,xxbos @usairways xxmaj yes , it was xxmaj sunday .\n",
              "y: EmptyLabelList\n",
              ",,,,\n",
              "Path: ., model=SequentialRNN(\n",
              "  (0): MultiBatchEncoder(\n",
              "    (module): AWD_LSTM(\n",
              "      (encoder): Embedding(4664, 400, padding_idx=1)\n",
              "      (encoder_dp): EmbeddingDropout(\n",
              "        (emb): Embedding(4664, 400, padding_idx=1)\n",
              "      )\n",
              "      (rnns): ModuleList(\n",
              "        (0): WeightDropout(\n",
              "          (module): LSTM(400, 1152, batch_first=True)\n",
              "        )\n",
              "        (1): WeightDropout(\n",
              "          (module): LSTM(1152, 1152, batch_first=True)\n",
              "        )\n",
              "        (2): WeightDropout(\n",
              "          (module): LSTM(1152, 400, batch_first=True)\n",
              "        )\n",
              "      )\n",
              "      (input_dp): RNNDropout()\n",
              "      (hidden_dps): ModuleList(\n",
              "        (0): RNNDropout()\n",
              "        (1): RNNDropout()\n",
              "        (2): RNNDropout()\n",
              "      )\n",
              "    )\n",
              "  )\n",
              "  (1): PoolingLinearClassifier(\n",
              "    (layers): Sequential(\n",
              "      (0): BatchNorm1d(1200, eps=1e-05, momentum=0.1, affine=True, track_running_stats=True)\n",
              "      (1): Dropout(p=0.2, inplace=False)\n",
              "      (2): Linear(in_features=1200, out_features=50, bias=True)\n",
              "      (3): ReLU(inplace=True)\n",
              "      (4): BatchNorm1d(50, eps=1e-05, momentum=0.1, affine=True, track_running_stats=True)\n",
              "      (5): Dropout(p=0.1, inplace=False)\n",
              "      (6): Linear(in_features=50, out_features=3, bias=True)\n",
              "    )\n",
              "  )\n",
              "), opt_func=functools.partial(<class 'torch.optim.adam.Adam'>, betas=(0.9, 0.99)), loss_func=FlattenedLoss of CrossEntropyLoss(), metrics=[<function accuracy at 0x7f3b58d02d08>], true_wd=True, bn_wd=True, wd=0.01, train_bn=True, path=PosixPath('.'), model_dir='models', callback_fns=[functools.partial(<class 'fastai.basic_train.Recorder'>, add_time=True, silent=False)], callbacks=[...], layer_groups=[Sequential(\n",
              "  (0): Embedding(4664, 400, padding_idx=1)\n",
              "  (1): EmbeddingDropout(\n",
              "    (emb): Embedding(4664, 400, padding_idx=1)\n",
              "  )\n",
              "), Sequential(\n",
              "  (0): WeightDropout(\n",
              "    (module): LSTM(400, 1152, batch_first=True)\n",
              "  )\n",
              "  (1): RNNDropout()\n",
              "), Sequential(\n",
              "  (0): WeightDropout(\n",
              "    (module): LSTM(1152, 1152, batch_first=True)\n",
              "  )\n",
              "  (1): RNNDropout()\n",
              "), Sequential(\n",
              "  (0): WeightDropout(\n",
              "    (module): LSTM(1152, 400, batch_first=True)\n",
              "  )\n",
              "  (1): RNNDropout()\n",
              "), Sequential(\n",
              "  (0): PoolingLinearClassifier(\n",
              "    (layers): Sequential(\n",
              "      (0): BatchNorm1d(1200, eps=1e-05, momentum=0.1, affine=True, track_running_stats=True)\n",
              "      (1): Dropout(p=0.2, inplace=False)\n",
              "      (2): Linear(in_features=1200, out_features=50, bias=True)\n",
              "      (3): ReLU(inplace=True)\n",
              "      (4): BatchNorm1d(50, eps=1e-05, momentum=0.1, affine=True, track_running_stats=True)\n",
              "      (5): Dropout(p=0.1, inplace=False)\n",
              "      (6): Linear(in_features=50, out_features=3, bias=True)\n",
              "    )\n",
              "  )\n",
              ")], add_time=True, silent=False)\n",
              "alpha: 2.0\n",
              "beta: 1.0], layer_groups=[Sequential(\n",
              "  (0): Embedding(4664, 400, padding_idx=1)\n",
              "  (1): EmbeddingDropout(\n",
              "    (emb): Embedding(4664, 400, padding_idx=1)\n",
              "  )\n",
              "), Sequential(\n",
              "  (0): WeightDropout(\n",
              "    (module): LSTM(400, 1152, batch_first=True)\n",
              "  )\n",
              "  (1): RNNDropout()\n",
              "), Sequential(\n",
              "  (0): WeightDropout(\n",
              "    (module): LSTM(1152, 1152, batch_first=True)\n",
              "  )\n",
              "  (1): RNNDropout()\n",
              "), Sequential(\n",
              "  (0): WeightDropout(\n",
              "    (module): LSTM(1152, 400, batch_first=True)\n",
              "  )\n",
              "  (1): RNNDropout()\n",
              "), Sequential(\n",
              "  (0): PoolingLinearClassifier(\n",
              "    (layers): Sequential(\n",
              "      (0): BatchNorm1d(1200, eps=1e-05, momentum=0.1, affine=True, track_running_stats=True)\n",
              "      (1): Dropout(p=0.2, inplace=False)\n",
              "      (2): Linear(in_features=1200, out_features=50, bias=True)\n",
              "      (3): ReLU(inplace=True)\n",
              "      (4): BatchNorm1d(50, eps=1e-05, momentum=0.1, affine=True, track_running_stats=True)\n",
              "      (5): Dropout(p=0.1, inplace=False)\n",
              "      (6): Linear(in_features=50, out_features=3, bias=True)\n",
              "    )\n",
              "  )\n",
              ")], add_time=True, silent=False)"
            ]
          },
          "metadata": {
            "tags": []
          },
          "execution_count": 66
        }
      ]
    },
    {
      "cell_type": "code",
      "metadata": {
        "id": "r8MD-1tpZ6Iz",
        "colab_type": "code",
        "colab": {}
      },
      "source": [
        ""
      ],
      "execution_count": null,
      "outputs": []
    },
    {
      "cell_type": "code",
      "metadata": {
        "id": "RQOGBi55Z6GB",
        "colab_type": "code",
        "colab": {
          "base_uri": "https://localhost:8080/",
          "height": 374
        },
        "outputId": "c23099ea-ead5-4400-f7be-2c42a4bbc77a"
      },
      "source": [
        "learn.lr_find() #start_lr=1e-8, end_lr=1e2)\n",
        "learn.recorder.plot()"
      ],
      "execution_count": 67,
      "outputs": [
        {
          "output_type": "display_data",
          "data": {
            "text/html": [
              "\n",
              "    <div>\n",
              "        <style>\n",
              "            /* Turns off some styling */\n",
              "            progress {\n",
              "                /* gets rid of default border in Firefox and Opera. */\n",
              "                border: none;\n",
              "                /* Needs to be in here for Safari polyfill so background images work as expected. */\n",
              "                background-size: auto;\n",
              "            }\n",
              "            .progress-bar-interrupted, .progress-bar-interrupted::-webkit-progress-bar {\n",
              "                background: #F44336;\n",
              "            }\n",
              "        </style>\n",
              "      <progress value='0' class='' max='1' style='width:300px; height:20px; vertical-align: middle;'></progress>\n",
              "      0.00% [0/1 00:00<00:00]\n",
              "    </div>\n",
              "    \n",
              "<table border=\"1\" class=\"dataframe\">\n",
              "  <thead>\n",
              "    <tr style=\"text-align: left;\">\n",
              "      <th>epoch</th>\n",
              "      <th>train_loss</th>\n",
              "      <th>valid_loss</th>\n",
              "      <th>accuracy</th>\n",
              "      <th>time</th>\n",
              "    </tr>\n",
              "  </thead>\n",
              "  <tbody>\n",
              "  </tbody>\n",
              "</table><p>\n",
              "\n",
              "    <div>\n",
              "        <style>\n",
              "            /* Turns off some styling */\n",
              "            progress {\n",
              "                /* gets rid of default border in Firefox and Opera. */\n",
              "                border: none;\n",
              "                /* Needs to be in here for Safari polyfill so background images work as expected. */\n",
              "                background-size: auto;\n",
              "            }\n",
              "            .progress-bar-interrupted, .progress-bar-interrupted::-webkit-progress-bar {\n",
              "                background: #F44336;\n",
              "            }\n",
              "        </style>\n",
              "      <progress value='94' class='' max='128' style='width:300px; height:20px; vertical-align: middle;'></progress>\n",
              "      73.44% [94/128 00:06<00:02 2.2287]\n",
              "    </div>\n",
              "    "
            ],
            "text/plain": [
              "<IPython.core.display.HTML object>"
            ]
          },
          "metadata": {
            "tags": []
          }
        },
        {
          "output_type": "stream",
          "text": [
            "LR Finder is complete, type {learner_name}.recorder.plot() to see the graph.\n"
          ],
          "name": "stdout"
        },
        {
          "output_type": "display_data",
          "data": {
            "image/png": "[encoded data removed]",
            "text/plain": [
              "<Figure size 432x288 with 1 Axes>"
            ]
          },
          "metadata": {
            "tags": [],
            "needs_background": "light"
          }
        }
      ]
    },
    {
      "cell_type": "markdown",
      "metadata": {
        "id": "zWwNPS6Rjd8X",
        "colab_type": "text"
      },
      "source": [
        "**Train the Classifer**"
      ]
    },
    {
      "cell_type": "code",
      "metadata": {
        "id": "EPvJAMxXZ6DY",
        "colab_type": "code",
        "colab": {
          "base_uri": "https://localhost:8080/",
          "height": 80
        },
        "outputId": "0e2dcad7-8732-49cb-8ce7-8810bf2f112d"
      },
      "source": [
        "learn.fit_one_cycle(1, 2e-2, moms=(0.8, 0.7))"
      ],
      "execution_count": 68,
      "outputs": [
        {
          "output_type": "display_data",
          "data": {
            "text/html": [
              "<table border=\"1\" class=\"dataframe\">\n",
              "  <thead>\n",
              "    <tr style=\"text-align: left;\">\n",
              "      <th>epoch</th>\n",
              "      <th>train_loss</th>\n",
              "      <th>valid_loss</th>\n",
              "      <th>accuracy</th>\n",
              "      <th>time</th>\n",
              "    </tr>\n",
              "  </thead>\n",
              "  <tbody>\n",
              "    <tr>\n",
              "      <td>0</td>\n",
              "      <td>0.646921</td>\n",
              "      <td>0.571774</td>\n",
              "      <td>0.769268</td>\n",
              "      <td>00:09</td>\n",
              "    </tr>\n",
              "  </tbody>\n",
              "</table>"
            ],
            "text/plain": [
              "<IPython.core.display.HTML object>"
            ]
          },
          "metadata": {
            "tags": []
          }
        }
      ]
    },
    {
      "cell_type": "markdown",
      "metadata": {
        "id": "8FwYTt6LAagM",
        "colab_type": "text"
      },
      "source": [
        "We chose a learning quite smaller than the one showed in the graph and the accuracy has shot up to 76% which is an improvement than the supervised models which barely shows 70%."
      ]
    },
    {
      "cell_type": "code",
      "metadata": {
        "id": "CA0FrbjxjPbe",
        "colab_type": "code",
        "colab": {
          "base_uri": "https://localhost:8080/",
          "height": 80
        },
        "outputId": "97d83aed-03d3-4c22-99d4-4c064db19f1d"
      },
      "source": [
        "learn.freeze_to(-2)\n",
        "#learn.fit_one_cycle(1, slice(1e-4,1e-2), moms=(0.8,0.7))\n",
        "learn.fit_one_cycle(1, slice(1e-2/(2.6**4),1e-2), moms=(0.8,0.7))"
      ],
      "execution_count": 69,
      "outputs": [
        {
          "output_type": "display_data",
          "data": {
            "text/html": [
              "<table border=\"1\" class=\"dataframe\">\n",
              "  <thead>\n",
              "    <tr style=\"text-align: left;\">\n",
              "      <th>epoch</th>\n",
              "      <th>train_loss</th>\n",
              "      <th>valid_loss</th>\n",
              "      <th>accuracy</th>\n",
              "      <th>time</th>\n",
              "    </tr>\n",
              "  </thead>\n",
              "  <tbody>\n",
              "    <tr>\n",
              "      <td>0</td>\n",
              "      <td>0.579105</td>\n",
              "      <td>0.516814</td>\n",
              "      <td>0.792683</td>\n",
              "      <td>00:12</td>\n",
              "    </tr>\n",
              "  </tbody>\n",
              "</table>"
            ],
            "text/plain": [
              "<IPython.core.display.HTML object>"
            ]
          },
          "metadata": {
            "tags": []
          }
        }
      ]
    },
    {
      "cell_type": "code",
      "metadata": {
        "id": "zx-8uCWPjPXK",
        "colab_type": "code",
        "colab": {
          "base_uri": "https://localhost:8080/",
          "height": 80
        },
        "outputId": "ac56d09b-84f2-4add-89e0-39bd8dc65368"
      },
      "source": [
        "learn.freeze_to(-3)\n",
        "#learn.fit_one_cycle(1, slice(1e-5,5e-3), moms=(0.8,0.7))\n",
        "learn.fit_one_cycle(1, slice(5e-3/(2.6**4),5e-3), moms=(0.8,0.7))"
      ],
      "execution_count": 70,
      "outputs": [
        {
          "output_type": "display_data",
          "data": {
            "text/html": [
              "<table border=\"1\" class=\"dataframe\">\n",
              "  <thead>\n",
              "    <tr style=\"text-align: left;\">\n",
              "      <th>epoch</th>\n",
              "      <th>train_loss</th>\n",
              "      <th>valid_loss</th>\n",
              "      <th>accuracy</th>\n",
              "      <th>time</th>\n",
              "    </tr>\n",
              "  </thead>\n",
              "  <tbody>\n",
              "    <tr>\n",
              "      <td>0</td>\n",
              "      <td>0.524770</td>\n",
              "      <td>0.510852</td>\n",
              "      <td>0.793171</td>\n",
              "      <td>00:18</td>\n",
              "    </tr>\n",
              "  </tbody>\n",
              "</table>"
            ],
            "text/plain": [
              "<IPython.core.display.HTML object>"
            ]
          },
          "metadata": {
            "tags": []
          }
        }
      ]
    },
    {
      "cell_type": "code",
      "metadata": {
        "id": "I8AwpPTFjPRb",
        "colab_type": "code",
        "colab": {
          "base_uri": "https://localhost:8080/",
          "height": 359
        },
        "outputId": "a98de975-7a43-40ec-9e16-f7471f8d0af8"
      },
      "source": [
        "#unfreezing everything after the 3 layers\n",
        "learn.unfreeze()\n",
        "#learn.fit_one_cycle(4, slice(1e-5,1e-3), moms=(0.8,0.7))\n",
        "learn.fit_one_cycle(10, slice(1e-3/(2.6**4),1e-3), moms=(0.8,0.7))"
      ],
      "execution_count": 71,
      "outputs": [
        {
          "output_type": "display_data",
          "data": {
            "text/html": [
              "<table border=\"1\" class=\"dataframe\">\n",
              "  <thead>\n",
              "    <tr style=\"text-align: left;\">\n",
              "      <th>epoch</th>\n",
              "      <th>train_loss</th>\n",
              "      <th>valid_loss</th>\n",
              "      <th>accuracy</th>\n",
              "      <th>time</th>\n",
              "    </tr>\n",
              "  </thead>\n",
              "  <tbody>\n",
              "    <tr>\n",
              "      <td>0</td>\n",
              "      <td>0.464073</td>\n",
              "      <td>0.503015</td>\n",
              "      <td>0.797561</td>\n",
              "      <td>00:24</td>\n",
              "    </tr>\n",
              "    <tr>\n",
              "      <td>1</td>\n",
              "      <td>0.444183</td>\n",
              "      <td>0.508187</td>\n",
              "      <td>0.797073</td>\n",
              "      <td>00:22</td>\n",
              "    </tr>\n",
              "    <tr>\n",
              "      <td>2</td>\n",
              "      <td>0.428954</td>\n",
              "      <td>0.510478</td>\n",
              "      <td>0.797561</td>\n",
              "      <td>00:22</td>\n",
              "    </tr>\n",
              "    <tr>\n",
              "      <td>3</td>\n",
              "      <td>0.410052</td>\n",
              "      <td>0.512665</td>\n",
              "      <td>0.797073</td>\n",
              "      <td>00:24</td>\n",
              "    </tr>\n",
              "    <tr>\n",
              "      <td>4</td>\n",
              "      <td>0.369297</td>\n",
              "      <td>0.520997</td>\n",
              "      <td>0.801951</td>\n",
              "      <td>00:24</td>\n",
              "    </tr>\n",
              "    <tr>\n",
              "      <td>5</td>\n",
              "      <td>0.329745</td>\n",
              "      <td>0.535806</td>\n",
              "      <td>0.800488</td>\n",
              "      <td>00:24</td>\n",
              "    </tr>\n",
              "    <tr>\n",
              "      <td>6</td>\n",
              "      <td>0.302033</td>\n",
              "      <td>0.544012</td>\n",
              "      <td>0.799512</td>\n",
              "      <td>00:23</td>\n",
              "    </tr>\n",
              "    <tr>\n",
              "      <td>7</td>\n",
              "      <td>0.304835</td>\n",
              "      <td>0.570180</td>\n",
              "      <td>0.801951</td>\n",
              "      <td>00:22</td>\n",
              "    </tr>\n",
              "    <tr>\n",
              "      <td>8</td>\n",
              "      <td>0.291987</td>\n",
              "      <td>0.545289</td>\n",
              "      <td>0.798537</td>\n",
              "      <td>00:23</td>\n",
              "    </tr>\n",
              "    <tr>\n",
              "      <td>9</td>\n",
              "      <td>0.274296</td>\n",
              "      <td>0.546391</td>\n",
              "      <td>0.796098</td>\n",
              "      <td>00:25</td>\n",
              "    </tr>\n",
              "  </tbody>\n",
              "</table>"
            ],
            "text/plain": [
              "<IPython.core.display.HTML object>"
            ]
          },
          "metadata": {
            "tags": []
          }
        }
      ]
    },
    {
      "cell_type": "markdown",
      "metadata": {
        "id": "_RquEnvgDnTu",
        "colab_type": "text"
      },
      "source": [
        "This is a great result because w got an accuracy close to 80%"
      ]
    },
    {
      "cell_type": "markdown",
      "metadata": {
        "id": "y2PUmSVqLsd2",
        "colab_type": "text"
      },
      "source": [
        "**Testing the Model**"
      ]
    },
    {
      "cell_type": "code",
      "metadata": {
        "id": "cV2uiNtDD0g4",
        "colab_type": "code",
        "colab": {
          "base_uri": "https://localhost:8080/",
          "height": 34
        },
        "outputId": "eded386d-9569-4ed5-9665-70aaec83116c"
      },
      "source": [
        "learn.predict('your airline is very bad. The worst service')"
      ],
      "execution_count": 72,
      "outputs": [
        {
          "output_type": "execute_result",
          "data": {
            "text/plain": [
              "(Category tensor(0), tensor(0), tensor([0.9861, 0.0012, 0.0127]))"
            ]
          },
          "metadata": {
            "tags": []
          },
          "execution_count": 72
        }
      ]
    },
    {
      "cell_type": "code",
      "metadata": {
        "id": "F5m52VxQD0vl",
        "colab_type": "code",
        "colab": {
          "base_uri": "https://localhost:8080/",
          "height": 34
        },
        "outputId": "a29539f4-e953-49c7-eabf-d5cc614f4adb"
      },
      "source": [
        "learn.predict('your airline is very good. I enjoyed the service very much')"
      ],
      "execution_count": 73,
      "outputs": [
        {
          "output_type": "execute_result",
          "data": {
            "text/plain": [
              "(Category tensor(2), tensor(2), tensor([0.3259, 0.0040, 0.6701]))"
            ]
          },
          "metadata": {
            "tags": []
          },
          "execution_count": 73
        }
      ]
    },
    {
      "cell_type": "markdown",
      "metadata": {
        "id": "gOm4blvqoGsS",
        "colab_type": "text"
      },
      "source": [
        "**Predictions**"
      ]
    },
    {
      "cell_type": "code",
      "metadata": {
        "id": "PbCz8bLNjPEg",
        "colab_type": "code",
        "colab": {}
      },
      "source": [
        "df_test['Predictions'] = df_test['text'].apply(lambda row: str(learn.predict(row)[0]))"
      ],
      "execution_count": 74,
      "outputs": []
    },
    {
      "cell_type": "code",
      "metadata": {
        "id": "JE8UgDseIPni",
        "colab_type": "code",
        "colab": {
          "base_uri": "https://localhost:8080/",
          "height": 235
        },
        "outputId": "d95a0d4f-de6f-43ae-f003-46126b83f082"
      },
      "source": [
        "df_test.head(6)"
      ],
      "execution_count": 78,
      "outputs": [
        {
          "output_type": "execute_result",
          "data": {
            "text/html": [
              "<div>\n",
              "<style scoped>\n",
              "    .dataframe tbody tr th:only-of-type {\n",
              "        vertical-align: middle;\n",
              "    }\n",
              "\n",
              "    .dataframe tbody tr th {\n",
              "        vertical-align: top;\n",
              "    }\n",
              "\n",
              "    .dataframe thead th {\n",
              "        text-align: right;\n",
              "    }\n",
              "</style>\n",
              "<table border=\"1\" class=\"dataframe\">\n",
              "  <thead>\n",
              "    <tr style=\"text-align: right;\">\n",
              "      <th></th>\n",
              "      <th>text</th>\n",
              "      <th>labels</th>\n",
              "      <th>Predictions</th>\n",
              "    </tr>\n",
              "  </thead>\n",
              "  <tbody>\n",
              "    <tr>\n",
              "      <th>12814</th>\n",
              "      <td>@AmericanAir I'll try to have a great week onc...</td>\n",
              "      <td>0</td>\n",
              "      <td>2</td>\n",
              "    </tr>\n",
              "    <tr>\n",
              "      <th>1490</th>\n",
              "      <td>@united You suck. Flight delayed equipment pro...</td>\n",
              "      <td>0</td>\n",
              "      <td>0</td>\n",
              "    </tr>\n",
              "    <tr>\n",
              "      <th>12460</th>\n",
              "      <td>@AmericanAir is it right to provide faulty sea...</td>\n",
              "      <td>0</td>\n",
              "      <td>1</td>\n",
              "    </tr>\n",
              "    <tr>\n",
              "      <th>2824</th>\n",
              "      <td>@united this is besides the fact that one week...</td>\n",
              "      <td>0</td>\n",
              "      <td>0</td>\n",
              "    </tr>\n",
              "    <tr>\n",
              "      <th>10782</th>\n",
              "      <td>@USAirways Yes, it was Sunday.</td>\n",
              "      <td>1</td>\n",
              "      <td>1</td>\n",
              "    </tr>\n",
              "    <tr>\n",
              "      <th>8420</th>\n",
              "      <td>@JetBlue OH YEAH!!! great flight down to Mexic...</td>\n",
              "      <td>2</td>\n",
              "      <td>2</td>\n",
              "    </tr>\n",
              "  </tbody>\n",
              "</table>\n",
              "</div>"
            ],
            "text/plain": [
              "                                                    text  labels Predictions\n",
              "12814  @AmericanAir I'll try to have a great week onc...       0           2\n",
              "1490   @united You suck. Flight delayed equipment pro...       0           0\n",
              "12460  @AmericanAir is it right to provide faulty sea...       0           1\n",
              "2824   @united this is besides the fact that one week...       0           0\n",
              "10782                     @USAirways Yes, it was Sunday.       1           1\n",
              "8420   @JetBlue OH YEAH!!! great flight down to Mexic...       2           2"
            ]
          },
          "metadata": {
            "tags": []
          },
          "execution_count": 78
        }
      ]
    },
    {
      "cell_type": "code",
      "metadata": {
        "id": "9dDE5wXbIXFM",
        "colab_type": "code",
        "colab": {
          "base_uri": "https://localhost:8080/",
          "height": 34
        },
        "outputId": "1e8a3372-35fd-4ba8-a179-be981ad0bb03"
      },
      "source": [
        "type(df_test['labels'].values[0])"
      ],
      "execution_count": 82,
      "outputs": [
        {
          "output_type": "execute_result",
          "data": {
            "text/plain": [
              "numpy.int64"
            ]
          },
          "metadata": {
            "tags": []
          },
          "execution_count": 82
        }
      ]
    },
    {
      "cell_type": "code",
      "metadata": {
        "id": "DYCx7g_RImtg",
        "colab_type": "code",
        "colab": {
          "base_uri": "https://localhost:8080/",
          "height": 34
        },
        "outputId": "406ef002-b115-4875-e93d-d3b311fd4b57"
      },
      "source": [
        "type(df_test['Predictions'].values[0])"
      ],
      "execution_count": 86,
      "outputs": [
        {
          "output_type": "execute_result",
          "data": {
            "text/plain": [
              "numpy.int64"
            ]
          },
          "metadata": {
            "tags": []
          },
          "execution_count": 86
        }
      ]
    },
    {
      "cell_type": "code",
      "metadata": {
        "id": "l58vp3SPIxhN",
        "colab_type": "code",
        "colab": {}
      },
      "source": [
        "df_test['Predictions'] = [int(x) for x in df_test['Predictions']]"
      ],
      "execution_count": 85,
      "outputs": []
    },
    {
      "cell_type": "code",
      "metadata": {
        "id": "mCPZtzenoJxG",
        "colab_type": "code",
        "colab": {
          "base_uri": "https://localhost:8080/",
          "height": 187
        },
        "outputId": "d613c1e8-7c5a-4edb-87e0-f2faef55500c"
      },
      "source": [
        "from sklearn.metrics import confusion_matrix, classification_report\n",
        "print(classification_report(df_test['labels'], df_test['Predictions']))\n",
        "#pd.DataFrame(confusion_matrix(Y_test, y_pred))\n"
      ],
      "execution_count": 87,
      "outputs": [
        {
          "output_type": "stream",
          "text": [
            "              precision    recall  f1-score   support\n",
            "\n",
            "           0       0.88      0.89      0.88      2753\n",
            "           1       0.66      0.67      0.66       930\n",
            "           2       0.74      0.71      0.73       709\n",
            "\n",
            "    accuracy                           0.81      4392\n",
            "   macro avg       0.76      0.75      0.76      4392\n",
            "weighted avg       0.81      0.81      0.81      4392\n",
            "\n"
          ],
          "name": "stdout"
        }
      ]
    },
    {
      "cell_type": "markdown",
      "metadata": {
        "id": "7qU1eGaCI_93",
        "colab_type": "text"
      },
      "source": [
        "This is the final report, the accuracy and overall performance of the classifier has improved greatly."
      ]
    },
    {
      "cell_type": "code",
      "metadata": {
        "id": "BEAR0O4koJsw",
        "colab_type": "code",
        "colab": {}
      },
      "source": [
        ""
      ],
      "execution_count": null,
      "outputs": []
    },
    {
      "cell_type": "code",
      "metadata": {
        "id": "Eyr9PRXOoJot",
        "colab_type": "code",
        "colab": {}
      },
      "source": [
        ""
      ],
      "execution_count": null,
      "outputs": []
    },
    {
      "cell_type": "markdown",
      "metadata": {
        "id": "igyVM7q7Tyw7",
        "colab_type": "text"
      },
      "source": [
        "#Basic ULM Fit Implementation"
      ]
    },
    {
      "cell_type": "code",
      "metadata": {
        "id": "MMhE5PaMUMew",
        "colab_type": "code",
        "colab": {}
      },
      "source": [
        "# split data into training and validation set\n",
        "#df_trn, df_val = train_test_split(data, stratify = data['label_encoded'], test_size = 0.4, random_state = 12)\n",
        "#df_trn, df_val = train_test_split(data, stratify = data['label_encoded'], test_size = 0.2, random_state = 42)\n",
        "df_trn, df_val = train_test_split(new_data, stratify = new_data['label_encoded'], test_size = 0.3, random_state = 42)"
      ],
      "execution_count": null,
      "outputs": []
    },
    {
      "cell_type": "code",
      "metadata": {
        "id": "qeiG3mH2UMTY",
        "colab_type": "code",
        "colab": {}
      },
      "source": [
        "df_trn.shape, df_val.shape"
      ],
      "execution_count": null,
      "outputs": []
    },
    {
      "cell_type": "code",
      "metadata": {
        "id": "GUxF9FLzUMNG",
        "colab_type": "code",
        "colab": {}
      },
      "source": [
        "# Language model data\n",
        "data_lm = TextLMDataBunch.from_df(train_df = df_trn, valid_df = df_val, path = \"\")\n",
        "\n",
        "# Classifier model data\n",
        "data_clas = TextClasDataBunch.from_df(path = \"\", train_df = df_trn, valid_df = df_val, vocab=data_lm.train_ds.vocab, bs=32)\n"
      ],
      "execution_count": null,
      "outputs": []
    },
    {
      "cell_type": "code",
      "metadata": {
        "id": "7cFnJx8KazQS",
        "colab_type": "code",
        "colab": {}
      },
      "source": [
        "data_lm"
      ],
      "execution_count": null,
      "outputs": []
    },
    {
      "cell_type": "code",
      "metadata": {
        "id": "3a1WLCTezOa5",
        "colab_type": "code",
        "colab": {}
      },
      "source": [
        "learn = language_model_learner(data_lm,arch = AWD_LSTM, pretrained = True, drop_mult=0.7)"
      ],
      "execution_count": null,
      "outputs": []
    },
    {
      "cell_type": "code",
      "metadata": {
        "id": "CR8MNVUaXdeD",
        "colab_type": "code",
        "colab": {}
      },
      "source": [
        "# train the learner object\n",
        "learn.fit_one_cycle(1, 1e-2)"
      ],
      "execution_count": null,
      "outputs": []
    },
    {
      "cell_type": "code",
      "metadata": {
        "id": "5mUSpN5uXdWH",
        "colab_type": "code",
        "colab": {}
      },
      "source": [
        "learn.lr_find()"
      ],
      "execution_count": null,
      "outputs": []
    },
    {
      "cell_type": "code",
      "metadata": {
        "id": "b3v-aioBXdOO",
        "colab_type": "code",
        "colab": {}
      },
      "source": [
        "learn.recorder.plot()"
      ],
      "execution_count": null,
      "outputs": []
    },
    {
      "cell_type": "code",
      "metadata": {
        "id": "8n3NHqSIXdF5",
        "colab_type": "code",
        "colab": {}
      },
      "source": [
        "learn.save_encoder('ft_enc')"
      ],
      "execution_count": null,
      "outputs": []
    },
    {
      "cell_type": "code",
      "metadata": {
        "id": "3yT723QIXdD4",
        "colab_type": "code",
        "colab": {}
      },
      "source": [
        "learn = text_classifier_learner(data_clas,arch = AWD_LSTM, pretrained = True, drop_mult=0.7)\n",
        "learn.load_encoder('ft_enc')"
      ],
      "execution_count": null,
      "outputs": []
    },
    {
      "cell_type": "code",
      "metadata": {
        "id": "UAI9mzIKd-Oi",
        "colab_type": "code",
        "colab": {}
      },
      "source": [
        "learn.lr_find()\n",
        "learn.recorder.plot()"
      ],
      "execution_count": null,
      "outputs": []
    },
    {
      "cell_type": "code",
      "metadata": {
        "id": "ZYGBYv3md-GM",
        "colab_type": "code",
        "colab": {}
      },
      "source": [
        "learn.fit_one_cycle(1, 1e-2)\n"
      ],
      "execution_count": null,
      "outputs": []
    },
    {
      "cell_type": "code",
      "metadata": {
        "id": "chEFCUM8Ec5F",
        "colab_type": "code",
        "colab": {}
      },
      "source": [
        "#oversampled dataset\n",
        "learn.fit_one_cycle(1, 1e-2)\n"
      ],
      "execution_count": null,
      "outputs": []
    },
    {
      "cell_type": "code",
      "metadata": {
        "id": "kF8h_biO2IZi",
        "colab_type": "code",
        "colab": {}
      },
      "source": [
        "# get predictions\n",
        "preds, targets = learn.get_preds()\n",
        "\n",
        "predictions = np.argmax(preds, axis = 1)\n",
        "pd.crosstab(predictions, targets)\n"
      ],
      "execution_count": null,
      "outputs": []
    },
    {
      "cell_type": "code",
      "metadata": {
        "id": "uZahn_KFEnQP",
        "colab_type": "code",
        "colab": {}
      },
      "source": [
        "#oversampled dataset\n",
        "# get predictions\n",
        "preds, targets = learn.get_preds()\n",
        "\n",
        "predictions = np.argmax(preds, axis = 1)\n",
        "pd.crosstab(predictions, targets)\n"
      ],
      "execution_count": null,
      "outputs": []
    },
    {
      "cell_type": "code",
      "metadata": {
        "id": "rF46kuqREvqF",
        "colab_type": "code",
        "colab": {}
      },
      "source": [
        "#oversampled dataset\n",
        "print(classification_report(targets, predictions))\n",
        "#pd.DataFrame(confusion_matrix(Y_test, y_pred))\n"
      ],
      "execution_count": null,
      "outputs": []
    },
    {
      "cell_type": "code",
      "metadata": {
        "id": "2B4WJW1Z2LkS",
        "colab_type": "code",
        "colab": {}
      },
      "source": [
        "print(classification_report(targets, predictions))\n",
        "#pd.DataFrame(confusion_matrix(Y_test, y_pred))\n"
      ],
      "execution_count": null,
      "outputs": []
    },
    {
      "cell_type": "code",
      "metadata": {
        "id": "88iYEl-wd-D_",
        "colab_type": "code",
        "colab": {}
      },
      "source": [
        "# get predictions\n",
        "preds, targets = learn.get_preds()\n",
        "\n",
        "predictions = np.argmax(preds, axis = 1)\n",
        "pd.crosstab(predictions, targets)\n"
      ],
      "execution_count": null,
      "outputs": []
    },
    {
      "cell_type": "code",
      "metadata": {
        "id": "ETJ1f8YPqMor",
        "colab_type": "code",
        "colab": {}
      },
      "source": [
        "print(classification_report(targets, predictions))\n",
        "#pd.DataFrame(confusion_matrix(Y_test, y_pred))\n"
      ],
      "execution_count": null,
      "outputs": []
    },
    {
      "cell_type": "code",
      "metadata": {
        "id": "BKAQauEHvtkm",
        "colab_type": "code",
        "colab": {}
      },
      "source": [
        ""
      ],
      "execution_count": null,
      "outputs": []
    },
    {
      "cell_type": "markdown",
      "metadata": {
        "id": "fiOLCrtYv3_y",
        "colab_type": "text"
      },
      "source": [
        "The precision of prediction has improved but the problem still remains - the imbalanced dataset"
      ]
    },
    {
      "cell_type": "code",
      "metadata": {
        "id": "OWqCqjDWv_k2",
        "colab_type": "code",
        "colab": {}
      },
      "source": [
        ""
      ],
      "execution_count": null,
      "outputs": []
    },
    {
      "cell_type": "markdown",
      "metadata": {
        "id": "wA8NXprqGSsx",
        "colab_type": "text"
      },
      "source": [
        "oversampling fails too"
      ]
    },
    {
      "cell_type": "code",
      "metadata": {
        "id": "yU1TX2IWGVbU",
        "colab_type": "code",
        "colab": {}
      },
      "source": [
        ""
      ],
      "execution_count": null,
      "outputs": []
    }
  ]
}